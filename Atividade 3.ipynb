{
 "cells": [
  {
   "cell_type": "markdown",
   "metadata": {
    "id": "gRvwuBcUwVm3"
   },
   "source": [
    "# Questão 1"
   ]
  },
  {
   "cell_type": "markdown",
   "metadata": {
    "id": "Qp-J1ljIwUWb"
   },
   "source": [
    "Calcule a fatoração LU, com pivoteamento parcial, da matriz\n",
    "\n",
    "$\n",
    "A =\n",
    "\\begin{bmatrix}\n",
    "−0. & −10. & 13. & 2. \\\\\n",
    "−16. & −2. & 5. & 5. \\\\\n",
    "1. & −1. & 2. & −8. \\\\\n",
    "−6. & −9. & −13. & −3.\n",
    "\\end{bmatrix}\n",
    "$"
   ]
  },
  {
   "cell_type": "code",
   "execution_count": 1,
   "metadata": {
    "id": "G80rTEjPwN9W"
   },
   "outputs": [],
   "source": [
    "import numpy as np"
   ]
  },
  {
   "cell_type": "code",
   "execution_count": 2,
   "metadata": {
    "id": "0M-9c1p9xlKL"
   },
   "outputs": [],
   "source": [
    "def FatoracaoLUPivot(A):\n",
    "    U = np.copy(A)\n",
    "    n = A.shape[0]\n",
    "    L = np.zeros_like(A)\n",
    "    P = np.eye(n)\n",
    "\n",
    "    m = 0\n",
    "\n",
    "    for j in range(n):\n",
    "\n",
    "        #Pivoteamento Parcial\n",
    "\n",
    "        k = np.argmax(np.abs(U[j:,j])) + j\n",
    "        U[j], U[k] = np.copy(U[k]), np.copy(U[j])\n",
    "        P[j], P[k] = np.copy(P[k]), np.copy(P[j])\n",
    "\n",
    "        #print(L[2, 2:], L[3, 2:])\n",
    "        L[j], L[k] = np.copy(L[k]), np.copy(L[j])\n",
    "        L[j][j] = 1\n",
    "\n",
    "        m += 1\n",
    "        print(f\"Linhas {j+1} e {k+1} trocadas\")\n",
    "        print(f\"j = {j}: (linha {j+1})\\nL = \\n{L}\\nU = \\n{U}\\nP = \\n{P}\\n\\n\")\n",
    "\n",
    "        for i in range(j + 1, n):\n",
    "            L[i][j] = U[i][j]/U[j][j]\n",
    "            for k in range(j + 1, n):\n",
    "                U[i][k] -= L[i][j] * U[j][k]\n",
    "            U[i][j] = 0\n",
    "            m += 1\n",
    "            print(f\"j = {j} & i = {i}: (termo ({i+1},{j+1}) zerado)\\nL = \\n{L}\\nU = \\n{U}\\n\\n\")\n",
    "    return L, U, P"
   ]
  },
  {
   "cell_type": "code",
   "execution_count": 3,
   "metadata": {
    "id": "1PP28kNuw9ty"
   },
   "outputs": [],
   "source": [
    "A = np.array([[0., -10., 13., 2.],\n",
    "[-16., -2., 5., 5.],\n",
    "[1., -1., 2., -8.],\n",
    "[-6., -9., -13., -3.]])"
   ]
  },
  {
   "cell_type": "code",
   "execution_count": 4,
   "metadata": {
    "colab": {
     "base_uri": "https://localhost:8080/"
    },
    "id": "mWsY0okT0Ihg",
    "outputId": "c010f90d-7a7a-494a-a180-7451a88a5514"
   },
   "outputs": [
    {
     "name": "stdout",
     "output_type": "stream",
     "text": [
      "Linhas 1 e 2 trocadas\n",
      "j = 0: (linha 1)\n",
      "L = \n",
      "[[1. 0. 0. 0.]\n",
      " [0. 0. 0. 0.]\n",
      " [0. 0. 0. 0.]\n",
      " [0. 0. 0. 0.]]\n",
      "U = \n",
      "[[-16.  -2.   5.   5.]\n",
      " [  0. -10.  13.   2.]\n",
      " [  1.  -1.   2.  -8.]\n",
      " [ -6.  -9. -13.  -3.]]\n",
      "P = \n",
      "[[0. 1. 0. 0.]\n",
      " [1. 0. 0. 0.]\n",
      " [0. 0. 1. 0.]\n",
      " [0. 0. 0. 1.]]\n",
      "\n",
      "\n",
      "j = 0 & i = 1: (termo (2,1) zerado)\n",
      "L = \n",
      "[[ 1.  0.  0.  0.]\n",
      " [-0.  0.  0.  0.]\n",
      " [ 0.  0.  0.  0.]\n",
      " [ 0.  0.  0.  0.]]\n",
      "U = \n",
      "[[-16.  -2.   5.   5.]\n",
      " [  0. -10.  13.   2.]\n",
      " [  1.  -1.   2.  -8.]\n",
      " [ -6.  -9. -13.  -3.]]\n",
      "\n",
      "\n",
      "j = 0 & i = 2: (termo (3,1) zerado)\n",
      "L = \n",
      "[[ 1.      0.      0.      0.    ]\n",
      " [-0.      0.      0.      0.    ]\n",
      " [-0.0625  0.      0.      0.    ]\n",
      " [ 0.      0.      0.      0.    ]]\n",
      "U = \n",
      "[[-16.      -2.       5.       5.    ]\n",
      " [  0.     -10.      13.       2.    ]\n",
      " [  0.      -1.125    2.3125  -7.6875]\n",
      " [ -6.      -9.     -13.      -3.    ]]\n",
      "\n",
      "\n",
      "j = 0 & i = 3: (termo (4,1) zerado)\n",
      "L = \n",
      "[[ 1.      0.      0.      0.    ]\n",
      " [-0.      0.      0.      0.    ]\n",
      " [-0.0625  0.      0.      0.    ]\n",
      " [ 0.375   0.      0.      0.    ]]\n",
      "U = \n",
      "[[-16.      -2.       5.       5.    ]\n",
      " [  0.     -10.      13.       2.    ]\n",
      " [  0.      -1.125    2.3125  -7.6875]\n",
      " [  0.      -8.25   -14.875   -4.875 ]]\n",
      "\n",
      "\n",
      "Linhas 2 e 2 trocadas\n",
      "j = 1: (linha 2)\n",
      "L = \n",
      "[[ 1.      0.      0.      0.    ]\n",
      " [-0.      1.      0.      0.    ]\n",
      " [-0.0625  0.      0.      0.    ]\n",
      " [ 0.375   0.      0.      0.    ]]\n",
      "U = \n",
      "[[-16.      -2.       5.       5.    ]\n",
      " [  0.     -10.      13.       2.    ]\n",
      " [  0.      -1.125    2.3125  -7.6875]\n",
      " [  0.      -8.25   -14.875   -4.875 ]]\n",
      "P = \n",
      "[[0. 1. 0. 0.]\n",
      " [1. 0. 0. 0.]\n",
      " [0. 0. 1. 0.]\n",
      " [0. 0. 0. 1.]]\n",
      "\n",
      "\n",
      "j = 1 & i = 2: (termo (3,2) zerado)\n",
      "L = \n",
      "[[ 1.      0.      0.      0.    ]\n",
      " [-0.      1.      0.      0.    ]\n",
      " [-0.0625  0.1125  0.      0.    ]\n",
      " [ 0.375   0.      0.      0.    ]]\n",
      "U = \n",
      "[[-16.      -2.       5.       5.    ]\n",
      " [  0.     -10.      13.       2.    ]\n",
      " [  0.       0.       0.85    -7.9125]\n",
      " [  0.      -8.25   -14.875   -4.875 ]]\n",
      "\n",
      "\n",
      "j = 1 & i = 3: (termo (4,2) zerado)\n",
      "L = \n",
      "[[ 1.      0.      0.      0.    ]\n",
      " [-0.      1.      0.      0.    ]\n",
      " [-0.0625  0.1125  0.      0.    ]\n",
      " [ 0.375   0.825   0.      0.    ]]\n",
      "U = \n",
      "[[-16.      -2.       5.       5.    ]\n",
      " [  0.     -10.      13.       2.    ]\n",
      " [  0.       0.       0.85    -7.9125]\n",
      " [  0.       0.     -25.6     -6.525 ]]\n",
      "\n",
      "\n",
      "Linhas 3 e 4 trocadas\n",
      "j = 2: (linha 3)\n",
      "L = \n",
      "[[ 1.      0.      0.      0.    ]\n",
      " [-0.      1.      0.      0.    ]\n",
      " [ 0.375   0.825   1.      0.    ]\n",
      " [-0.0625  0.1125  0.      0.    ]]\n",
      "U = \n",
      "[[-16.      -2.       5.       5.    ]\n",
      " [  0.     -10.      13.       2.    ]\n",
      " [  0.       0.     -25.6     -6.525 ]\n",
      " [  0.       0.       0.85    -7.9125]]\n",
      "P = \n",
      "[[0. 1. 0. 0.]\n",
      " [1. 0. 0. 0.]\n",
      " [0. 0. 0. 1.]\n",
      " [0. 0. 1. 0.]]\n",
      "\n",
      "\n",
      "j = 2 & i = 3: (termo (4,3) zerado)\n",
      "L = \n",
      "[[ 1.          0.          0.          0.        ]\n",
      " [-0.          1.          0.          0.        ]\n",
      " [ 0.375       0.825       1.          0.        ]\n",
      " [-0.0625      0.1125     -0.03320312  0.        ]]\n",
      "U = \n",
      "[[-16.          -2.           5.           5.        ]\n",
      " [  0.         -10.          13.           2.        ]\n",
      " [  0.           0.         -25.6         -6.525     ]\n",
      " [  0.           0.           0.          -8.12915039]]\n",
      "\n",
      "\n",
      "Linhas 4 e 4 trocadas\n",
      "j = 3: (linha 4)\n",
      "L = \n",
      "[[ 1.          0.          0.          0.        ]\n",
      " [-0.          1.          0.          0.        ]\n",
      " [ 0.375       0.825       1.          0.        ]\n",
      " [-0.0625      0.1125     -0.03320312  1.        ]]\n",
      "U = \n",
      "[[-16.          -2.           5.           5.        ]\n",
      " [  0.         -10.          13.           2.        ]\n",
      " [  0.           0.         -25.6         -6.525     ]\n",
      " [  0.           0.           0.          -8.12915039]]\n",
      "P = \n",
      "[[0. 1. 0. 0.]\n",
      " [1. 0. 0. 0.]\n",
      " [0. 0. 0. 1.]\n",
      " [0. 0. 1. 0.]]\n",
      "\n",
      "\n"
     ]
    },
    {
     "data": {
      "text/plain": [
       "(array([[ 1.        ,  0.        ,  0.        ,  0.        ],\n",
       "        [-0.        ,  1.        ,  0.        ,  0.        ],\n",
       "        [ 0.375     ,  0.825     ,  1.        ,  0.        ],\n",
       "        [-0.0625    ,  0.1125    , -0.03320312,  1.        ]]),\n",
       " array([[-16.        ,  -2.        ,   5.        ,   5.        ],\n",
       "        [  0.        , -10.        ,  13.        ,   2.        ],\n",
       "        [  0.        ,   0.        , -25.6       ,  -6.525     ],\n",
       "        [  0.        ,   0.        ,   0.        ,  -8.12915039]]),\n",
       " array([[0., 1., 0., 0.],\n",
       "        [1., 0., 0., 0.],\n",
       "        [0., 0., 0., 1.],\n",
       "        [0., 0., 1., 0.]]))"
      ]
     },
     "execution_count": 4,
     "metadata": {},
     "output_type": "execute_result"
    }
   ],
   "source": [
    "L, U, P = FatoracaoLUPivot(A)\n",
    "L, U, P"
   ]
  },
  {
   "cell_type": "code",
   "execution_count": 5,
   "metadata": {
    "colab": {
     "base_uri": "https://localhost:8080/"
    },
    "id": "H_AvZ0bt2_Jg",
    "outputId": "b8ed94dc-cce2-44e1-8498-d1885d60c0c2"
   },
   "outputs": [
    {
     "name": "stdout",
     "output_type": "stream",
     "text": [
      "[[-16.  -2.   5.   5.]\n",
      " [  0. -10.  13.   2.]\n",
      " [ -6.  -9. -13.  -3.]\n",
      " [  1.  -1.   2.  -8.]]\n",
      "[[-16.  -2.   5.   5.]\n",
      " [  0. -10.  13.   2.]\n",
      " [ -6.  -9. -13.  -3.]\n",
      " [  1.  -1.   2.  -8.]]\n"
     ]
    }
   ],
   "source": [
    "print(P @ A, L @ U, sep=\"\\n\")"
   ]
  },
  {
   "cell_type": "markdown",
   "metadata": {
    "id": "mWljFBcxOXVv"
   },
   "source": [
    "Aplicando os métodos estudados em aula, criei a rotina `FatoracaoLUPivot`. Ela recebe uma matriz $A$ e determina as matrizes $L$, $U$ e $P$ tal que $PA = LU$ em que $P$ é matriz de permutação, $L$ matriz triangular inferior com $1$s na diagonal principal e $U$ matriz diagonal superior. Ao longo do processo, a função esclarece quais operações foram realizadas e imprime as matrizes em estados intermediários.\n",
    "\n",
    "Dessa forma, notei que foram trocadas as linhas 1 e 2, e 3 e 4 entre si, respectivamente. Calculando $PA$ e $LU$, comprovei que elas de fato são iguais e o algoritmo funcionou."
   ]
  },
  {
   "cell_type": "markdown",
   "metadata": {
    "id": "WWFC1BH_xqlM"
   },
   "source": [
    "# Questão 2"
   ]
  },
  {
   "cell_type": "markdown",
   "metadata": {
    "id": "g7iA1IsCxuT4"
   },
   "source": [
    "Considere a matriz $M$ e o vetor $b$ definidos abaixo:\n",
    "\n",
    "$\n",
    "M =\n",
    "\\begin{bmatrix}\n",
    "4. & −2. & 1. \\\\\n",
    "1. & −1. & 1. \\\\\n",
    "0. & 0. & 1. \\\\\n",
    "1. & 1. & 1. \\\\\n",
    "4. & 2. & 1. \\\\\n",
    "\\end{bmatrix}\n",
    "$\n",
    "e \n",
    "$\n",
    "b =\n",
    "\\begin{bmatrix}\n",
    "4. \\\\\n",
    "10. \\\\\n",
    "−5.\n",
    "\\end{bmatrix}\n",
    "$\n",
    ".\n",
    "\n",
    "Determine a fatoração de Cholesky da matriz $A = M^TM$. Usando a fatoração de Cholesky, resolva o sistema linear $Ax = b$."
   ]
  },
  {
   "cell_type": "code",
   "execution_count": 6,
   "metadata": {
    "id": "p4-H_cTjzoRd"
   },
   "outputs": [],
   "source": [
    "def SubstituicaoRegressiva(U, c): # U triangular superior\n",
    "    x = np.copy(c)\n",
    "    n = U.shape[0]\n",
    "\n",
    "    for i in range(n-1, -1, -1):\n",
    "        for j in range(i + 1, n):\n",
    "            x[i] -= (U[i][j] * x[j])\n",
    "        x[i] /= U[i][i]\n",
    "    return x"
   ]
  },
  {
   "cell_type": "code",
   "execution_count": 7,
   "metadata": {
    "id": "Hsy-ztcjURuW"
   },
   "outputs": [],
   "source": [
    "def SubstituicaoDireta(U, c): #U triangular inferior\n",
    "    x = np.copy(c)\n",
    "    n = U.shape[0]\n",
    "\n",
    "    for i in range(n):\n",
    "        for j in range(i):\n",
    "            x[i] -= (U[i][j] * x[j])\n",
    "        x[i] /= U[i][i]\n",
    "    return x"
   ]
  },
  {
   "cell_type": "code",
   "execution_count": 8,
   "metadata": {
    "id": "AjwD3CWyRsaJ"
   },
   "outputs": [],
   "source": [
    "def FatoracaoCholesky(A):\n",
    "    n = A.shape[0]\n",
    "    G = np.zeros_like(A)\n",
    "\n",
    "    for i in range(n):\n",
    "        G[i,i] = np.sqrt(A[i,i] - np.sum(G[0:i,i] ** 2) )\n",
    "\n",
    "        for j in range(i+1, n):\n",
    "            G[i,j] = (A[i,j] - np.sum(G[0:i,j] * G[0:i, i]) ) / G[i,i]\n",
    "    \n",
    "    return G"
   ]
  },
  {
   "cell_type": "code",
   "execution_count": 9,
   "metadata": {
    "id": "BGxLBt-aVB6w"
   },
   "outputs": [],
   "source": [
    "def SolucaoCholesky(A, b):\n",
    "    G = FatoracaoCholesky(A)\n",
    "\n",
    "    # Resolver sistemas G^T y = b e G x = y\n",
    "\n",
    "    y = SubstituicaoDireta(G.T, b)\n",
    "    x = SubstituicaoRegressiva(G, y)\n",
    "    return G, y, x"
   ]
  },
  {
   "cell_type": "code",
   "execution_count": 10,
   "metadata": {
    "id": "zlzbv3skyM-A"
   },
   "outputs": [],
   "source": [
    "M = np.array([\n",
    "[4., -2., 1.],\n",
    "[1., -1., 1.],\n",
    "[0., 0., 1.],\n",
    "[1., 1., 1.],\n",
    "[4., 2., 1.]])"
   ]
  },
  {
   "cell_type": "code",
   "execution_count": 11,
   "metadata": {
    "id": "eMwnXPhyyOd-"
   },
   "outputs": [],
   "source": [
    "b = np.array([\n",
    "[4.],\n",
    "[10.],\n",
    "[-5.]])"
   ]
  },
  {
   "cell_type": "code",
   "execution_count": 12,
   "metadata": {
    "colab": {
     "base_uri": "https://localhost:8080/"
    },
    "id": "OkUK4X6YUErV",
    "outputId": "86bc8164-69f5-4860-ffda-63acb27c8a33"
   },
   "outputs": [
    {
     "name": "stdout",
     "output_type": "stream",
     "text": [
      "[[ 4. -2.  1.]\n",
      " [ 1. -1.  1.]\n",
      " [ 0.  0.  1.]\n",
      " [ 1.  1.  1.]\n",
      " [ 4.  2.  1.]]\n",
      "[[ 4.  1.  0.  1.  4.]\n",
      " [-2. -1.  0.  1.  2.]\n",
      " [ 1.  1.  1.  1.  1.]]\n"
     ]
    }
   ],
   "source": [
    "print(M)\n",
    "print(M.T)"
   ]
  },
  {
   "cell_type": "code",
   "execution_count": 13,
   "metadata": {
    "colab": {
     "base_uri": "https://localhost:8080/"
    },
    "id": "j_GMj2wtRG5D",
    "outputId": "36976075-74f8-4418-fdc0-40a70df11209"
   },
   "outputs": [
    {
     "data": {
      "text/plain": [
       "array([[34.,  0., 10.],\n",
       "       [ 0., 10.,  0.],\n",
       "       [10.,  0.,  5.]])"
      ]
     },
     "execution_count": 13,
     "metadata": {},
     "output_type": "execute_result"
    }
   ],
   "source": [
    "A = M.T @ M\n",
    "A"
   ]
  },
  {
   "cell_type": "code",
   "execution_count": 14,
   "metadata": {
    "id": "RSrfR9dFV6WY"
   },
   "outputs": [],
   "source": [
    "G, y, x = SolucaoCholesky(A, b)"
   ]
  },
  {
   "cell_type": "code",
   "execution_count": 15,
   "metadata": {
    "colab": {
     "base_uri": "https://localhost:8080/"
    },
    "id": "3rKOCiObWBET",
    "outputId": "dea5e1eb-963d-468d-d664-12f4de4c6b60"
   },
   "outputs": [
    {
     "data": {
      "text/plain": [
       "array([[5.83095189, 0.        , 1.71498585],\n",
       "       [0.        , 3.16227766, 0.        ],\n",
       "       [0.        , 0.        , 1.43486011]])"
      ]
     },
     "execution_count": 15,
     "metadata": {},
     "output_type": "execute_result"
    }
   ],
   "source": [
    "G"
   ]
  },
  {
   "cell_type": "code",
   "execution_count": 16,
   "metadata": {
    "colab": {
     "base_uri": "https://localhost:8080/"
    },
    "id": "0P9icP3DWCVh",
    "outputId": "a35b52d5-7d8c-4a9b-bf70-eb0b6d145767"
   },
   "outputs": [
    {
     "data": {
      "text/plain": [
       "array([[ 0.68599434],\n",
       "       [ 3.16227766],\n",
       "       [-4.30458032]])"
      ]
     },
     "execution_count": 16,
     "metadata": {},
     "output_type": "execute_result"
    }
   ],
   "source": [
    "y"
   ]
  },
  {
   "cell_type": "code",
   "execution_count": 17,
   "metadata": {
    "colab": {
     "base_uri": "https://localhost:8080/"
    },
    "id": "83PhWR0NWEUF",
    "outputId": "60503d01-c75d-4d44-e363-570ae2e6f203"
   },
   "outputs": [
    {
     "data": {
      "text/plain": [
       "array([[ 1.],\n",
       "       [ 1.],\n",
       "       [-3.]])"
      ]
     },
     "execution_count": 17,
     "metadata": {},
     "output_type": "execute_result"
    }
   ],
   "source": [
    "x"
   ]
  },
  {
   "cell_type": "code",
   "execution_count": 18,
   "metadata": {
    "colab": {
     "base_uri": "https://localhost:8080/"
    },
    "id": "AX0kZngwWFdZ",
    "outputId": "327ed821-c1b4-43ed-e53e-eab1ecc9309c"
   },
   "outputs": [
    {
     "name": "stdout",
     "output_type": "stream",
     "text": [
      "[[ 4.]\n",
      " [10.]\n",
      " [-5.]]\n",
      "[[ 4.]\n",
      " [10.]\n",
      " [-5.]]\n"
     ]
    }
   ],
   "source": [
    "print(M.T @ M @ x)\n",
    "print(b)"
   ]
  },
  {
   "cell_type": "markdown",
   "metadata": {
    "id": "GFxwazzyXjYf"
   },
   "source": [
    "Após implementar o algoritmo da Fatoração de Cholesky, e reutilizar códigos anteriores de substituições direta e regressiva, pude criar a função `SolucaoCholesky`. Ela, ao receber um sistema linear composto por uma matriz $A$ pressuposta simétrica e definida positiva e um vetor $b$, invoca a Fatoração de Cholesky em $A$ (obtendo $G$) e resolve o sistema ao decompô-lo\n",
    "\n",
    "$\n",
    "\\begin{cases}\n",
    "G^T y = b \\\\\n",
    "G x = y\n",
    "\\end{cases}\n",
    "$\n",
    "\n",
    "e resolver as equações matriciais por substituições direta e regressiva, respectivamente.\n",
    "\n",
    "A partir de $M$, calculei o vetor $A=M^TM$.\n",
    "\n",
    "$\n",
    "A =\n",
    "\\begin{bmatrix}\n",
    "34 & 0 & 10 \\\\\n",
    "0 & 10 & 0 \\\\\n",
    "10 & 0 & 5\n",
    "\\end{bmatrix}\n",
    "$\n",
    "\n",
    "Então, utilizei `SolucaoCholesky` para obter o vetor $x$ do sistema $A x = b$.\n",
    "\n",
    "O algoritmo encontrou $G$, $y$ e $x$.\n",
    "\n",
    "$\n",
    "G =\n",
    "\\begin{bmatrix}\n",
    "5.83095189 & 0 & 1.71498585 \\\\\n",
    "0 & 3.16227766 & 0 \\\\\n",
    "0 & 0 & 1.43486011\n",
    "\\end{bmatrix}\n",
    "$\n",
    "\n",
    "$\n",
    "y =\n",
    "\\begin{bmatrix}\n",
    "0.68599434 \\\\\n",
    "3.16227766 \\\\\n",
    "-4.30458032\n",
    "\\end{bmatrix}\n",
    "$\n",
    "\n",
    "$\n",
    "x =\n",
    "\\begin{bmatrix}\n",
    "1 \\\\\n",
    "1. \\\\\n",
    "-3\n",
    "\\end{bmatrix}\n",
    "$\n",
    "\n",
    "Calculando $M^T M x = b$, pude observar que o programa resolveu o sistema linear corretamente.\n",
    "\n",
    "\n"
   ]
  }
 ],
 "metadata": {
  "colab": {
   "name": "RA240106 - MS211 - Atividade 3.ipynb",
   "provenance": []
  },
  "kernelspec": {
   "display_name": "Python 3",
   "language": "python",
   "name": "python3"
  },
  "language_info": {
   "codemirror_mode": {
    "name": "ipython",
    "version": 3
   },
   "file_extension": ".py",
   "mimetype": "text/x-python",
   "name": "python",
   "nbconvert_exporter": "python",
   "pygments_lexer": "ipython3",
   "version": "3.8.8"
  }
 },
 "nbformat": 4,
 "nbformat_minor": 1
}
