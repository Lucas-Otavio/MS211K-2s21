{
  "nbformat": 4,
  "nbformat_minor": 0,
  "metadata": {
    "colab": {
      "name": "RA240106 - MS211 - Atividade 11.ipynb",
      "provenance": []
    },
    "kernelspec": {
      "name": "python3",
      "display_name": "Python 3"
    },
    "language_info": {
      "name": "python"
    }
  },
  "cells": [
    {
      "cell_type": "markdown",
      "metadata": {
        "id": "eW8h2pXfYAKY"
      },
      "source": [
        "A Tabela 1 descreve a população brasileira conforme dados oficiais do instituto brasileiro de geografia e estatística (IBGE):\n",
        "\n",
        "Ano       | População\n",
        "--------- | ------\n",
        "1900      | 17.438.434\n",
        "1920      | 30.635.605\n",
        "1940      | 41.236.315\n",
        "1950      | 51.944.397\n",
        "1960      | 70.992.343\n",
        "1970      | 94.508.583\n",
        "1980      | 121.150.573\n",
        "1991      | 146.917.459\n",
        "2000      | 169.590.693\n",
        "2010      | 190.755.799:\n",
        "\n",
        "Tabela 1: População Brasileira\n",
        "\n",
        "\n",
        "\n",
        "\n",
        "\n"
      ]
    },
    {
      "cell_type": "code",
      "metadata": {
        "id": "22_9FGCab--s"
      },
      "source": [
        "import numpy as np\n",
        "import matplotlib.pyplot as plt"
      ],
      "execution_count": 1,
      "outputs": []
    },
    {
      "cell_type": "markdown",
      "metadata": {
        "id": "KGNDaFToah3f"
      },
      "source": [
        "# Questão 1\n",
        "\n",
        "Determine o polinômio que interpola os pontos tabelados."
      ]
    },
    {
      "cell_type": "code",
      "metadata": {
        "id": "fPurUYRSbVXF"
      },
      "source": [
        "n = 9\n",
        "x = np.array([1900, 1920, 1940, 1950, 1960, 1970, 1980, 1991, 2000, 2010])\n",
        "y = np.array([17438434, 30635605, 41236315, 51944397, 70992343, 94508583, 121150573, 146917459, 169590693, 190755799])"
      ],
      "execution_count": 2,
      "outputs": []
    },
    {
      "cell_type": "markdown",
      "metadata": {
        "id": "2EJ628oaiuPY"
      },
      "source": [
        "## Construindo Matrix"
      ]
    },
    {
      "cell_type": "markdown",
      "metadata": {
        "id": "WHEEYHeXnQph"
      },
      "source": [
        "Decidi aplicar o Método de Newton e comecei formando a matriz."
      ]
    },
    {
      "cell_type": "code",
      "metadata": {
        "id": "xfCx4b7ZfrwK"
      },
      "source": [
        "A = np.zeros((n+1,n+1))"
      ],
      "execution_count": 3,
      "outputs": []
    },
    {
      "cell_type": "code",
      "metadata": {
        "id": "d3LH5TxkjCs4"
      },
      "source": [
        "A[:,0] = np.ones_like(A[:,0])"
      ],
      "execution_count": 4,
      "outputs": []
    },
    {
      "cell_type": "code",
      "metadata": {
        "id": "mv9y8OFLjKOw"
      },
      "source": [
        "for j in range(1, n+1):\n",
        "    A[j:,j] = A[j:,j-1] * (x[j:] - x[j-1])"
      ],
      "execution_count": 5,
      "outputs": []
    },
    {
      "cell_type": "code",
      "metadata": {
        "colab": {
          "base_uri": "https://localhost:8080/"
        },
        "id": "MESpeeasjrIA",
        "outputId": "7d84c4e9-2efb-415c-8a34-15b491ebd6b7"
      },
      "source": [
        "A"
      ],
      "execution_count": 6,
      "outputs": [
        {
          "output_type": "execute_result",
          "data": {
            "text/plain": [
              "array([[1.00000000e+00, 0.00000000e+00, 0.00000000e+00, 0.00000000e+00,\n",
              "        0.00000000e+00, 0.00000000e+00, 0.00000000e+00, 0.00000000e+00,\n",
              "        0.00000000e+00, 0.00000000e+00],\n",
              "       [1.00000000e+00, 2.00000000e+01, 0.00000000e+00, 0.00000000e+00,\n",
              "        0.00000000e+00, 0.00000000e+00, 0.00000000e+00, 0.00000000e+00,\n",
              "        0.00000000e+00, 0.00000000e+00],\n",
              "       [1.00000000e+00, 4.00000000e+01, 8.00000000e+02, 0.00000000e+00,\n",
              "        0.00000000e+00, 0.00000000e+00, 0.00000000e+00, 0.00000000e+00,\n",
              "        0.00000000e+00, 0.00000000e+00],\n",
              "       [1.00000000e+00, 5.00000000e+01, 1.50000000e+03, 1.50000000e+04,\n",
              "        0.00000000e+00, 0.00000000e+00, 0.00000000e+00, 0.00000000e+00,\n",
              "        0.00000000e+00, 0.00000000e+00],\n",
              "       [1.00000000e+00, 6.00000000e+01, 2.40000000e+03, 4.80000000e+04,\n",
              "        4.80000000e+05, 0.00000000e+00, 0.00000000e+00, 0.00000000e+00,\n",
              "        0.00000000e+00, 0.00000000e+00],\n",
              "       [1.00000000e+00, 7.00000000e+01, 3.50000000e+03, 1.05000000e+05,\n",
              "        2.10000000e+06, 2.10000000e+07, 0.00000000e+00, 0.00000000e+00,\n",
              "        0.00000000e+00, 0.00000000e+00],\n",
              "       [1.00000000e+00, 8.00000000e+01, 4.80000000e+03, 1.92000000e+05,\n",
              "        5.76000000e+06, 1.15200000e+08, 1.15200000e+09, 0.00000000e+00,\n",
              "        0.00000000e+00, 0.00000000e+00],\n",
              "       [1.00000000e+00, 9.10000000e+01, 6.46100000e+03, 3.29511000e+05,\n",
              "        1.35099510e+07, 4.18808481e+08, 8.79497810e+09, 9.67447591e+10,\n",
              "        0.00000000e+00, 0.00000000e+00],\n",
              "       [1.00000000e+00, 1.00000000e+02, 8.00000000e+03, 4.80000000e+05,\n",
              "        2.40000000e+07, 9.60000000e+08, 2.88000000e+10, 5.76000000e+11,\n",
              "        5.18400000e+12, 0.00000000e+00],\n",
              "       [1.00000000e+00, 1.10000000e+02, 9.90000000e+03, 6.93000000e+05,\n",
              "        4.15800000e+07, 2.07900000e+09, 8.31600000e+10, 2.49480000e+12,\n",
              "        4.74012000e+13, 4.74012000e+14]])"
            ]
          },
          "metadata": {},
          "execution_count": 6
        }
      ]
    },
    {
      "cell_type": "markdown",
      "metadata": {
        "id": "ZHFKI1tGkFOi"
      },
      "source": [
        "## Solução do Sistema"
      ]
    },
    {
      "cell_type": "markdown",
      "metadata": {
        "id": "TyDob5lL9UWX"
      },
      "source": [
        "Então, resolvi o sistema $\\boldsymbol{A} \\alpha = \\boldsymbol{y}$ para obter $\\alpha$."
      ]
    },
    {
      "cell_type": "code",
      "metadata": {
        "colab": {
          "base_uri": "https://localhost:8080/"
        },
        "id": "lLrxsDtpkHtn",
        "outputId": "9d2f617e-911b-457f-af6f-bb94a7548ce7"
      },
      "source": [
        "alpha = np.linalg.solve(A, y)\n",
        "alpha"
      ],
      "execution_count": 7,
      "outputs": [
        {
          "output_type": "execute_result",
          "data": {
            "text/plain": [
              "array([ 1.74384340e+07,  6.59858550e+05, -3.24557625e+03,  4.25426658e+02,\n",
              "        2.77354042e+00, -3.93079363e-01,  1.22634136e-02, -3.15087626e-04,\n",
              "        9.07052433e-06, -2.61105123e-07])"
            ]
          },
          "metadata": {},
          "execution_count": 7
        }
      ]
    },
    {
      "cell_type": "code",
      "metadata": {
        "colab": {
          "base_uri": "https://localhost:8080/"
        },
        "id": "cK_GppMM-D7W",
        "outputId": "0bee8e56-ddfd-44db-fc4b-3a4d5174d40c"
      },
      "source": [
        "x"
      ],
      "execution_count": 14,
      "outputs": [
        {
          "output_type": "execute_result",
          "data": {
            "text/plain": [
              "array([1900, 1920, 1940, 1950, 1960, 1970, 1980, 1991, 2000, 2010])"
            ]
          },
          "metadata": {},
          "execution_count": 14
        }
      ]
    },
    {
      "cell_type": "code",
      "metadata": {
        "id": "r41AX4aEkgCn"
      },
      "source": [
        "def Newton(t, alpha):\n",
        "    m = np.empty((10, t.shape[0]))\n",
        "    m[0] = np.ones_like(t)\n",
        "    m[1] = (t - x[0])\n",
        "    for j in range(2, 10):\n",
        "        m[j] = m[j-1] * (t - x[j-1])\n",
        "    return np.dot(alpha, m)"
      ],
      "execution_count": 8,
      "outputs": []
    },
    {
      "cell_type": "markdown",
      "metadata": {
        "id": "KA0-3YKvnXeQ"
      },
      "source": [
        "Agora, o polinomio é determinado por `Newton(t, alpha)`.\n",
        "\n",
        "Ou seja:\n",
        "\n",
        "$p_9(x) = 1.74\\mathrm{e}{+07}  + 6.60\\mathrm{e}{+05} \\times (x - 1900) - 3.25\\mathrm{e}{+03} \\times (x - 1900) \\times (x - 1920) + 4.25\\mathrm{e}{+02} \\times (x - 1900) \\times (x - 1920) \\times (x - 1940) + 2.77\\mathrm{e}{+00} \\times (x - 1900) \\times (x - 1920) \\times (x - 1940) \\times (x - 1950) - 3.93\\mathrm{e}{-01} \\times (x - 1900) \\times (x - 1920) \\times (x - 1940) \\times (x - 1950) \\times (x - 1960) + 1.23\\mathrm{e}{-02} \\times (x - 1900) \\times (x - 1920) \\times (x - 1940) \\times (x - 1950) \\times (x - 1960) \\times (x - 1970) - 3.15\\mathrm{e}{-04} \\times (x - 1900) \\times (x - 1920) \\times (x - 1940) \\times (x - 1950) \\times (x - 1960) \\times (x - 1970) \\times (x - 1980) + 9.07\\mathrm{e}{-06} \\times (x - 1900) \\times (x - 1920) \\times (x - 1940) \\times (x - 1950) \\times (x - 1960) \\times (x - 1970) \\times (x - 1980) \\times (x - 1991) - 2.61\\mathrm{e}{-07} \\times (x - 1900) \\times (x - 1920) \\times (x - 1940) \\times (x - 1950) \\times (x - 1960) \\times (x - 1970) \\times (x - 1980) \\times (x - 1991) \\times (x - 2000)$"
      ]
    },
    {
      "cell_type": "markdown",
      "metadata": {
        "id": "UyxZpIoMcUbT"
      },
      "source": [
        "## Tabela de Diferenças Divididas"
      ]
    },
    {
      "cell_type": "markdown",
      "metadata": {
        "id": "0Cv6ZSUSBBWe"
      },
      "source": [
        "Também comparei o resultado de $\\alpha$ com o resultado obtido por meio da Tabela de Diferenças Divididas."
      ]
    },
    {
      "cell_type": "code",
      "metadata": {
        "id": "51GKuTRFX2zf"
      },
      "source": [
        "DD = np.zeros((n+1, n+1))"
      ],
      "execution_count": 9,
      "outputs": []
    },
    {
      "cell_type": "code",
      "metadata": {
        "id": "PPmG7xWBcc6c"
      },
      "source": [
        "DD[:,0] = y"
      ],
      "execution_count": 10,
      "outputs": []
    },
    {
      "cell_type": "code",
      "metadata": {
        "id": "Svo0SFZUcjHs"
      },
      "source": [
        "for j in range(1, n+2):\n",
        "    for i in range(0, n+1 - j):\n",
        "        DD[i,j] = (DD[i+1,j-1] - DD[i,j-1]) / (x[i + j] - x[i])"
      ],
      "execution_count": 11,
      "outputs": []
    },
    {
      "cell_type": "code",
      "metadata": {
        "colab": {
          "base_uri": "https://localhost:8080/"
        },
        "id": "ywmAi9wmcg17",
        "outputId": "7d92174e-eab5-4456-a71d-b781acfc19d5"
      },
      "source": [
        "DD"
      ],
      "execution_count": 12,
      "outputs": [
        {
          "output_type": "execute_result",
          "data": {
            "text/plain": [
              "array([[ 1.74384340e+07,  6.59858550e+05, -3.24557625e+03,\n",
              "         4.25426658e+02,  2.77354042e+00, -3.93079363e-01,\n",
              "         1.22634136e-02, -3.15087626e-04,  9.07052433e-06,\n",
              "        -2.61105123e-07],\n",
              "       [ 3.06356050e+07,  5.30035500e+05,  1.80257567e+04,\n",
              "         5.91839083e+02, -2.47420150e+01,  5.87993722e-01,\n",
              "        -1.64095604e-02,  5.91964808e-04, -1.96510392e-05,\n",
              "         0.00000000e+00],\n",
              "       [ 4.12363150e+07,  1.07080820e+06,  4.16993200e+04,\n",
              "        -6.45261667e+02,  1.05376083e+01, -5.77085063e-01,\n",
              "         3.09476243e-02, -1.17662872e-03,  0.00000000e+00,\n",
              "         0.00000000e+00],\n",
              "       [ 5.19443970e+07,  1.90479460e+06,  2.23414700e+04,\n",
              "        -2.23757333e+02, -1.88937299e+01,  1.27977239e+00,\n",
              "        -5.14163862e-02,  0.00000000e+00,  0.00000000e+00,\n",
              "         0.00000000e+00],\n",
              "       [ 7.09923430e+07,  2.35162400e+06,  1.56287500e+04,\n",
              "        -9.98400258e+02,  4.50948898e+01, -1.80521078e+00,\n",
              "         0.00000000e+00,  0.00000000e+00,  0.00000000e+00,\n",
              "         0.00000000e+00],\n",
              "       [ 9.45085830e+07,  2.66419900e+06, -1.53216580e+04,\n",
              "         8.05395334e+02, -4.51656492e+01,  0.00000000e+00,\n",
              "         0.00000000e+00,  0.00000000e+00,  0.00000000e+00,\n",
              "         0.00000000e+00],\n",
              "       [ 1.21150573e+08,  2.34244418e+06,  8.84020202e+03,\n",
              "        -1.00123063e+03,  0.00000000e+00,  0.00000000e+00,\n",
              "         0.00000000e+00,  0.00000000e+00,  0.00000000e+00,\n",
              "         0.00000000e+00],\n",
              "       [ 1.46917459e+08,  2.51924822e+06, -2.11967170e+04,\n",
              "         0.00000000e+00,  0.00000000e+00,  0.00000000e+00,\n",
              "         0.00000000e+00,  0.00000000e+00,  0.00000000e+00,\n",
              "         0.00000000e+00],\n",
              "       [ 1.69590693e+08,  2.11651060e+06,  0.00000000e+00,\n",
              "         0.00000000e+00,  0.00000000e+00,  0.00000000e+00,\n",
              "         0.00000000e+00,  0.00000000e+00,  0.00000000e+00,\n",
              "         0.00000000e+00],\n",
              "       [ 1.90755799e+08,  0.00000000e+00,  0.00000000e+00,\n",
              "         0.00000000e+00,  0.00000000e+00,  0.00000000e+00,\n",
              "         0.00000000e+00,  0.00000000e+00,  0.00000000e+00,\n",
              "         0.00000000e+00]])"
            ]
          },
          "metadata": {},
          "execution_count": 12
        }
      ]
    },
    {
      "cell_type": "code",
      "metadata": {
        "colab": {
          "base_uri": "https://localhost:8080/"
        },
        "id": "bZ3zuA9Umw2O",
        "outputId": "4e06e977-fcd1-4062-c0e5-34833fa3e729"
      },
      "source": [
        "alpha - DD[0] < np.ones_like(alpha) * 1e-9"
      ],
      "execution_count": 13,
      "outputs": [
        {
          "output_type": "execute_result",
          "data": {
            "text/plain": [
              "array([ True,  True,  True,  True,  True,  True,  True,  True,  True,\n",
              "        True])"
            ]
          },
          "metadata": {},
          "execution_count": 13
        }
      ]
    },
    {
      "cell_type": "markdown",
      "metadata": {
        "id": "VaDDQIvlo5T1"
      },
      "source": [
        "Como podemos ver, a primeira linha da matriz de Tabela de Diferenças Divididas concorda com $\\alpha$, o que confirma o resultado."
      ]
    },
    {
      "cell_type": "markdown",
      "metadata": {
        "id": "bzKbvLhepKkG"
      },
      "source": [
        "#Questão 2\n",
        "\n",
        "Apresente na mesma figura o diagrama de dispersão dos pontos da Tabela 1 e o polinômio interpolador obtido na questão anterior."
      ]
    },
    {
      "cell_type": "code",
      "metadata": {
        "colab": {
          "base_uri": "https://localhost:8080/",
          "height": 290
        },
        "id": "h5il0D-OpPTj",
        "outputId": "2fc6b0da-3406-4e8c-b9c1-c349efe5ebbf"
      },
      "source": [
        "plt.scatter(x, y)\n",
        "t = np.linspace(np.min(x), np.max(x), (np.max(x) - np.min(x) + 1))\n",
        "plt.plot(t, Newton(t, alpha))\n",
        "\n",
        "plt.xlabel(\"Ano\")\n",
        "plt.ylabel(\"População\")\n",
        "plt.show()"
      ],
      "execution_count": 15,
      "outputs": [
        {
          "output_type": "display_data",
          "data": {
            "image/png": "[encoded data removed]",
            "text/plain": [
              "<Figure size 432x288 with 1 Axes>"
            ]
          },
          "metadata": {
            "needs_background": "light"
          }
        }
      ]
    },
    {
      "cell_type": "markdown",
      "metadata": {
        "id": "-ST3jReF81lq"
      },
      "source": [
        "# Questão 3\n",
        "\n",
        "Comente o resultado obtido na questão anterior."
      ]
    },
    {
      "cell_type": "markdown",
      "metadata": {
        "id": "sf1Z5aHB84Lv"
      },
      "source": [
        "O resultado aparenta ter sido calculado de forma coerente e de acordo com o método; uma vez que ele, de fato, interpola os dados $\\left( \\varphi (x_k) = y_k \\; \\forall k = 0, \\ldots, n \\right)$ conforme se nota pelo gráfico.\n",
        "\n",
        "Contudo, é claro que a função ($\\varphi (x)$) entre os nós de interpolação se afasta da realidade em alguns intervalos. Em especial, entre os pontos de valor $x=1900$ e $x=1920$, a população atingiu valor negativo, o que é impossível.\n",
        "\n",
        "Logo, conclui-se que a interpolação polinomial por Método de Newton cumpre sua função ao interceptar os pontos que a geraram, mas não poderia ser utilizada com confiança para estimar os valores intermediários."
      ]
    }
  ]
}