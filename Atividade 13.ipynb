{
  "nbformat": 4,
  "nbformat_minor": 0,
  "metadata": {
    "colab": {
      "name": "RA240106 - MS211 - Atividade 13.ipynb",
      "provenance": []
    },
    "kernelspec": {
      "name": "python3",
      "display_name": "Python 3"
    },
    "language_info": {
      "name": "python"
    }
  },
  "cells": [
    {
      "cell_type": "markdown",
      "metadata": {
        "id": "d1DgdllLaXLJ"
      },
      "source": [
        "# Questão 1\n",
        "\n",
        "Considere a integral\n",
        "\n",
        "$\n",
        "I = \\int_0^π e^{sen(x)} dx\n",
        "$,\n",
        "\n",
        "e uma tolerância  = 0.02."
      ]
    },
    {
      "cell_type": "code",
      "metadata": {
        "id": "DdgJKgYkeWJH"
      },
      "source": [
        "import numpy as np\n",
        "import matplotlib.pyplot as plt\n",
        "from scipy.integrate import quad"
      ],
      "execution_count": 1,
      "outputs": []
    },
    {
      "cell_type": "markdown",
      "metadata": {
        "id": "JNq6oSila8rd"
      },
      "source": [
        "## (a)\n",
        "Calcule a integral acima usando a regra dos trapézios repetida com erro menor que a tolerância. Quantos sub-intervalos foram usados? Justifique sua resposta."
      ]
    },
    {
      "cell_type": "markdown",
      "metadata": {
        "id": "GTztQmu2bNlf"
      },
      "source": [
        "Podemos, a partir da tolerância, determinar quantos sub-intervalos devem ser utilizados. Para satisfazer a tolerância, o majorante do erro deve ser menor que ela.\n",
        "\n",
        "$\\left|I(f) - T_n(f)\\right| < ϵ = 0.02 \\iff \\frac{b - a}{12} h^2 M_2 < 0.02$\n",
        "\n",
        "No caso, $a=0$ e $b=\\pi$. Ainda, $M_2 = \\max_{a \\le \\xi \\le b}{|f''(\\xi)|}$.\n",
        "\n",
        "De $f(x) = e^{sen(x)}$, $f'(x) = cos(x) \\times e^{sen(x)}$ e $f''(x) = \\left( cos^2(x) - sen(x) \\right) \\times e^{sen(x)}$."
      ]
    },
    {
      "cell_type": "code",
      "metadata": {
        "colab": {
          "base_uri": "https://localhost:8080/",
          "height": 306
        },
        "id": "cat9CXniaQgg",
        "outputId": "929f42e0-1249-4b1b-a690-856b13518e80"
      },
      "source": [
        "a,b = 0,np.pi\n",
        "\n",
        "t = np.linspace(a, b, 101)\n",
        "d2f_dx2 = (np.square(np.cos(t)) - np.sin(t)) * np.exp(np.sin(t))\n",
        "valor_maximo = max(np.abs(d2f_dx2))\n",
        "for i in range(len(t)):\n",
        "    if (np.abs(d2f_dx2[i]) == valor_maximo):\n",
        "        print(t[i], d2f_dx2[i])\n",
        "\n",
        "font = {\"size\":20}\n",
        "plt.xlabel(\"$x$\", fontdict=font)\n",
        "plt.ylabel(\"$|f''(x)|$\", fontdict=font)\n",
        "plt.plot(t, np.abs(d2f_dx2), label=\"$|f''(x)|$\")\n",
        "plt.plot([a,b], [np.exp(1), np.exp(1)], label=\"$|f''(\\\\xi)| = e$\")\n",
        "plt.legend(prop={\"size\":15})\n",
        "plt.show()"
      ],
      "execution_count": 2,
      "outputs": [
        {
          "output_type": "stream",
          "name": "stdout",
          "text": [
            "1.5707963267948968 -2.718281828459045\n"
          ]
        },
        {
          "output_type": "display_data",
          "data": {
            "image/png": "[encoded data removed]",
            "text/plain": [
              "<Figure size 432x288 with 1 Axes>"
            ]
          },
          "metadata": {
            "needs_background": "light"
          }
        }
      ]
    },
    {
      "cell_type": "markdown",
      "metadata": {
        "id": "o8yBi2qfffYU"
      },
      "source": [
        "Pelo gráfico do módulo e pela inspeção da segunda derivada, identifiquei que $\\max_{a \\le \\xi \\le b}{|f''(\\xi)|}$ ocorre para $\\xi = 1.5707963267948968 \\approx \\pi/2$.\n",
        "\n",
        "Assim, $f''(\\pi/2) = \\left( cos^2(\\pi/2) - sen(\\pi/2) \\right) \\times e^{sen(\\pi/2)} = (0 - 1) \\times e^1 = -e$.\n",
        "\n",
        "Logo, $M_2 = e$.\n",
        "\n",
        "\n",
        "Dessa forma, $\\frac{b - a}{12} h^2 M_2 < 0.02 \\iff \\frac{\\pi e}{12} h^2 < 0.02 \\iff h < \\sqrt{\\frac{0.24}{\\pi e}}$.\n",
        "\n",
        "Portanto, de $h = \\frac{b - a}{n}$, $n = \\frac{\\pi}{h} > \\pi \\sqrt{\\frac{\\pi e}{0.24}} = \\sqrt{\\frac{\\pi^3 e}{0.24}} \\approx 18.74$.\n",
        "\n",
        "Destarte, como $n > 18.74$, basta $n = 19$."
      ]
    },
    {
      "cell_type": "code",
      "metadata": {
        "id": "RTKs5Yd1ixBL"
      },
      "source": [
        "f = lambda x: np.exp(np.sin(x))\n",
        "\n",
        "def RegraTrapeziosRepetida(f, a, b, n):\n",
        "    h = (b - a) / n\n",
        "    x = np.array([a + h * k for k in range(n+1)])\n",
        "\n",
        "    integral = 0\n",
        "    for i in range(n+1):\n",
        "        if (0 < i < n):\n",
        "            integral += 2*f(x[i])\n",
        "        else:\n",
        "            integral += f(x[i])\n",
        "    integral *= h/2\n",
        "\n",
        "    return integral"
      ],
      "execution_count": 3,
      "outputs": []
    },
    {
      "cell_type": "code",
      "metadata": {
        "colab": {
          "base_uri": "https://localhost:8080/"
        },
        "id": "DqntzKnMk7hB",
        "outputId": "bc4865bd-50f9-4f53-a101-69645a96995c"
      },
      "source": [
        "integral = RegraTrapeziosRepetida(f, 0, np.pi, 19)\n",
        "integral"
      ],
      "execution_count": 4,
      "outputs": [
        {
          "output_type": "execute_result",
          "data": {
            "text/plain": [
              "6.204201442511748"
            ]
          },
          "metadata": {},
          "execution_count": 4
        }
      ]
    },
    {
      "cell_type": "markdown",
      "metadata": {
        "id": "fY_yNJPNqBsH"
      },
      "source": [
        "Após implementar a Regra de Trapezios Repetida, obtive como resultado $I = 6.204201442511748$."
      ]
    },
    {
      "cell_type": "code",
      "metadata": {
        "colab": {
          "base_uri": "https://localhost:8080/"
        },
        "id": "x3bprZF5pBxn",
        "outputId": "dfec4bcd-5133-47d6-befa-cdfc5ac56167"
      },
      "source": [
        "resultado, erro = quad(f, a, b)\n",
        "resultado, erro"
      ],
      "execution_count": 5,
      "outputs": [
        {
          "output_type": "execute_result",
          "data": {
            "text/plain": [
              "(6.20875803571111, 4.051169407494022e-10)"
            ]
          },
          "metadata": {},
          "execution_count": 5
        }
      ]
    },
    {
      "cell_type": "code",
      "metadata": {
        "colab": {
          "base_uri": "https://localhost:8080/"
        },
        "id": "FQnwHsCWo-QG",
        "outputId": "c88a144f-f73f-4975-9172-e852e6208566"
      },
      "source": [
        "np.abs(integral - resultado) < 0.02 + erro"
      ],
      "execution_count": 6,
      "outputs": [
        {
          "output_type": "execute_result",
          "data": {
            "text/plain": [
              "True"
            ]
          },
          "metadata": {},
          "execution_count": 6
        }
      ]
    },
    {
      "cell_type": "markdown",
      "metadata": {
        "id": "P0mJWZV5qOY9"
      },
      "source": [
        "Comparando com o resultado de uma função implementada pelo módulo `scipy.integrate`, confirmei que o cálculo encontra-se na margem de tolerância."
      ]
    },
    {
      "cell_type": "markdown",
      "metadata": {
        "id": "QDOd2WSUa6Le"
      },
      "source": [
        "## (b)\n",
        "Calcule a integral acima usando a regra 1/3 de Simpson repetida com erro menor que tolerância. Quantos sub-intervalos foram usados? Justifique sua resposta."
      ]
    },
    {
      "cell_type": "markdown",
      "metadata": {
        "id": "KKjizHhFqjV6"
      },
      "source": [
        "Novamente, podemos, a partir da tolerância, determinar quantos sub-intervalos devem ser utilizados. Para satisfazer a tolerância, o majorante do erro deve ser menor que ela.\n",
        "\n",
        "$\\left|I(f) - S_n(f)\\right| < ϵ = 0.02 \\iff \\frac{b - a}{180} h^4 M_4 < 0.02$\n",
        "\n",
        "No caso, $a=0$ e $b=\\pi$. Ainda, $M_4 = \\max_{a \\le \\xi \\le b}{|f^{(iv)}(\\xi)|}$.\n",
        "\n",
        "De $f''(x) = \\left( cos^2(x) - sen(x) \\right) \\times e^{sen(x)}$, $f'''(x) = \\left( cos^3(x) - 3 sen(x) cos(x) - cos(x) \\right) \\times e^{sen(x)}$ e $f^{(iv)}(x) = \\left( cos^4(x) - 6 sen(x) cos^2(x) - 4cos^2(x) + 3sin^2(x) + sin(x) \\right) \\times e^{sen(x)}$."
      ]
    },
    {
      "cell_type": "code",
      "metadata": {
        "colab": {
          "base_uri": "https://localhost:8080/",
          "height": 306
        },
        "id": "J_NuS8IDtD-f",
        "outputId": "0752b5f7-6eef-4d9f-890d-3133f67809c6"
      },
      "source": [
        "d4f_dx4 = (np.power(np.cos(t), 4) - 6*np.sin(t)*np.square(np.cos(t)) - 4*np.square(np.cos(t)) + 3*np.square(np.sin(t)) + np.sin(t)) * np.exp(np.sin(t))\n",
        "valor_maximo = max(np.abs(d4f_dx4))\n",
        "for i in range(len(t)):\n",
        "    if (np.abs(d4f_dx4[i]) == valor_maximo):\n",
        "        print(t[i], d4f_dx4[i])\n",
        "\n",
        "font = {\"size\":20}\n",
        "plt.xlabel(\"$x$\", fontdict=font)\n",
        "plt.ylabel(\"$|f^{(iv)}(x)|$\", fontdict=font)\n",
        "plt.plot(t, np.abs(d4f_dx4), label=\"$|f^{(iv)}(x)|$\")\n",
        "plt.plot([a,b], [10.87312731383618, 10.87312731383618], label=\"$|f^{(iv)}(\\\\xi)| = e$\")\n",
        "plt.legend(prop={\"size\":15})\n",
        "plt.show()"
      ],
      "execution_count": 7,
      "outputs": [
        {
          "output_type": "stream",
          "name": "stdout",
          "text": [
            "1.5707963267948968 10.87312731383618\n"
          ]
        },
        {
          "output_type": "display_data",
          "data": {
            "image/png": "[encoded data removed]",
            "text/plain": [
              "<Figure size 432x288 with 1 Axes>"
            ]
          },
          "metadata": {
            "needs_background": "light"
          }
        }
      ]
    },
    {
      "cell_type": "markdown",
      "metadata": {
        "id": "1SrOMcpFwupy"
      },
      "source": [
        "A partir da análise, notei que $M_4 = 10.87$ para $\\xi = 1.57$.\n",
        "\n",
        "Logo, de $\\frac{b - a}{180} h^4 M_4 < 0.02$ e $M_4 = 10.87$, obtemos $h < \\sqrt[4]{\\frac{3.6}{M_4 \\pi}}$.\n",
        "\n",
        "Portanto, de $h = \\frac{b - a}{n}$, $n = \\frac{\\pi}{h} > \\pi \\sqrt[4]{\\frac{M_4 \\pi}{3.6}} \\approx 5.513791429310815$."
      ]
    },
    {
      "cell_type": "markdown",
      "metadata": {
        "id": "4EBu2kChzZsM"
      },
      "source": [
        "Destarte, como $n>5.513791429310815$, basta $n=6$."
      ]
    },
    {
      "cell_type": "code",
      "metadata": {
        "colab": {
          "base_uri": "https://localhost:8080/"
        },
        "id": "hm7kCZGVy7sd",
        "outputId": "666f725a-da10-4b18-fb44-0b6600c8b9e5"
      },
      "source": [
        "np.pi * np.power(10.87312731383618 * np.pi / 3.6, 0.25)"
      ],
      "execution_count": 8,
      "outputs": [
        {
          "output_type": "execute_result",
          "data": {
            "text/plain": [
              "5.513791429310815"
            ]
          },
          "metadata": {},
          "execution_count": 8
        }
      ]
    },
    {
      "cell_type": "code",
      "metadata": {
        "id": "rV8zqsJqp6fp"
      },
      "source": [
        "def RegraSimpsonRepetida(f, a, b, n):\n",
        "    h = (b - a) / n\n",
        "    x = np.array([a + h * k for k in range(n+1)])\n",
        "\n",
        "    integral = 0\n",
        "    for i in range(n+1):\n",
        "        if (0 < i < n):\n",
        "            if (i%2 == 1):\n",
        "                integral += 4 * f(x[i])\n",
        "            else:\n",
        "                integral += 2 * f(x[i])\n",
        "        else:\n",
        "            integral += f(x[i])\n",
        "    integral *= h/3\n",
        "\n",
        "    return integral"
      ],
      "execution_count": 9,
      "outputs": []
    },
    {
      "cell_type": "code",
      "metadata": {
        "colab": {
          "base_uri": "https://localhost:8080/"
        },
        "id": "vfjZ7hBXzozO",
        "outputId": "450520b1-a23d-4160-e8a0-04a844a2e661"
      },
      "source": [
        "integral = RegraSimpsonRepetida(f, a, b, 6)\n",
        "integral"
      ],
      "execution_count": 10,
      "outputs": [
        {
          "output_type": "execute_result",
          "data": {
            "text/plain": [
              "6.208601834670837"
            ]
          },
          "metadata": {},
          "execution_count": 10
        }
      ]
    },
    {
      "cell_type": "code",
      "metadata": {
        "colab": {
          "base_uri": "https://localhost:8080/"
        },
        "id": "ddVq8dUpz7mu",
        "outputId": "0bff8681-8419-4a00-90d3-f2e58bbcad4b"
      },
      "source": [
        "resultado, erro = quad(f, a, b)\n",
        "resultado, erro"
      ],
      "execution_count": 11,
      "outputs": [
        {
          "output_type": "execute_result",
          "data": {
            "text/plain": [
              "(6.20875803571111, 4.051169407494022e-10)"
            ]
          },
          "metadata": {},
          "execution_count": 11
        }
      ]
    },
    {
      "cell_type": "code",
      "metadata": {
        "colab": {
          "base_uri": "https://localhost:8080/"
        },
        "id": "aGVyGsgbz9V8",
        "outputId": "11df00ca-a21b-4b81-8391-b787289b1f6c"
      },
      "source": [
        "np.abs(integral - resultado) < 0.02 + erro"
      ],
      "execution_count": 12,
      "outputs": [
        {
          "output_type": "execute_result",
          "data": {
            "text/plain": [
              "True"
            ]
          },
          "metadata": {},
          "execution_count": 12
        }
      ]
    },
    {
      "cell_type": "markdown",
      "metadata": {
        "id": "zhUAI1Co0qkc"
      },
      "source": [
        "Comparando com o resultado de uma função implementada pelo módulo `scipy.integrate`, confirmei que o cálculo encontra-se na margem de tolerância."
      ]
    },
    {
      "cell_type": "markdown",
      "metadata": {
        "id": "FBN_3Hlz0vdj"
      },
      "source": [
        "# Questão 2\n",
        "\n",
        "A fórmula de Newton-Cotes fechada deve fornecer uma boa aproximação para a integral\n",
        "\n",
        "$\n",
        "I = \\int_{-1}^{+1} \\frac{dx}{1 + 25x^2}\n",
        "$,\n",
        "\n",
        "para $n$ grande (por exemplo, $n ≥ 10$)? Justifique sua resposta."
      ]
    },
    {
      "cell_type": "markdown",
      "metadata": {
        "id": "Gw8OPDOUAIXS"
      },
      "source": [
        "Vou considerar o caso da Regra 1/3 de Simpson Repetida.\n",
        "\n",
        "De $f(x) = \\frac{1}{1 + 25x^2}$, sabemos:\n",
        "\n",
        "$$\n",
        "\\begin{cases}\n",
        "f'(x) = - \\frac{50x}{\\left(1 + 25x^2\\right)^2} \\\\\n",
        "f''(x) = \\frac{5000x^2}{(1 + 25x^2)^3} - \\frac{50}{\\left(1 + 25x^2\\right)^2} \\\\\n",
        "f'''(x) = \\frac{15 000x}{(1 + 25x^2)^3} - \\frac{750 000 x^3}{\\left(1 + 25x^2\\right)^4} \\\\\n",
        "f^{(iv)}(x) = -\\frac{4 500 000 x^2}{(1 + 25x^2)^4} + \\frac{15 000}{(1 + 25x^2)^3} + \\frac{150 000 000 x^4}{\\left(1 + 25x^2\\right)^5}\n",
        "\\end{cases}\n",
        "$$"
      ]
    },
    {
      "cell_type": "code",
      "metadata": {
        "colab": {
          "base_uri": "https://localhost:8080/",
          "height": 306
        },
        "id": "HF6Px02ZDMT4",
        "outputId": "7e115f2b-4777-4fc1-ea75-855d43cbc4cb"
      },
      "source": [
        "a,b = -1,1\n",
        "\n",
        "t = np.linspace(a, b, 101)\n",
        "t2 = np.square(t)\n",
        "den = 1 + 25 * t2\n",
        "d4f_dx4 = - 4_500_000 * t2 / np.power(den, 4) + 15_000 / np.power(den, 3) + 150_000_000 * np.square(t2) / np.power(den, 5)\n",
        "valor_maximo = max(np.abs(d4f_dx4))\n",
        "for i in range(len(t)):\n",
        "    if (np.abs(d4f_dx4[i]) == valor_maximo):\n",
        "        print(t[i], d4f_dx4[i])\n",
        "\n",
        "font = {\"size\":20}\n",
        "plt.xlabel(\"$x$\", fontdict=font)\n",
        "plt.ylabel(\"$|f^{(iv)}(x)|$\", fontdict=font)\n",
        "plt.plot(t, np.abs(d4f_dx4), label=\"$|f^{(iv)}(x)|$\")\n",
        "plt.plot([a,b], [15_000] * 2, label=\"$|f^{(iv)}(\\\\xi)| = 15000$\")\n",
        "plt.legend(prop={\"size\":15},bbox_to_anchor=(1,0.5,0.5,0.5))\n",
        "plt.show()"
      ],
      "execution_count": 13,
      "outputs": [
        {
          "output_type": "stream",
          "name": "stdout",
          "text": [
            "0.0 15000.0\n"
          ]
        },
        {
          "output_type": "display_data",
          "data": {
            "image/png": "[encoded data removed]",
            "text/plain": [
              "<Figure size 432x288 with 1 Axes>"
            ]
          },
          "metadata": {
            "needs_background": "light"
          }
        }
      ]
    },
    {
      "cell_type": "markdown",
      "metadata": {
        "id": "c3gnn_XaFJYG"
      },
      "source": [
        "Analisando o gráfico da função, podemos concluir o seguinte: \n",
        "\n",
        "$M_4 = \\max_{a \\le \\xi \\le b}{|f^{(iv)}(\\xi)|} = 15000$ para $\\xi = 0$\n",
        "\n",
        "Dessa forma, temos:      \n",
        "\n",
        "$\\left|I(f) - S_n(f)\\right| < \\frac{b-a}{180} h^4 M_4 = \\frac{b-a}{180} \\left(\\frac{b-a}{n}\\right)^4 M_4 = \\frac{\\left(b-a\\right)^5}{180n^4} M_4 < \\epsilon$.\n",
        "\n",
        "Fazendo a resolução $ϵ = 0.02$, como na questão anterior, obtemos:    \n",
        "\n",
        "$n > \\sqrt[4]{\\frac{\\left(b-a\\right)^5}{180 \\epsilon} M_4} = \\sqrt[4]{\\frac{15000 \\times 2^5}{180 \\times 0.2}} \\approx 19.11 \\Rightarrow n > 19.11$ \n",
        "\n",
        "Logo, com $n=20$, é possível fornecer uma boa aproximação para a integral $I$ por meio da Fórmula de Newton-Cotes Fechada, e utilizando a Regra de 1/3 de Simpson Repetida."
      ]
    },
    {
      "cell_type": "markdown",
      "metadata": {
        "id": "28jkgWwgJ4Es"
      },
      "source": [
        "Agora, vamos calcular a integral dessa forma."
      ]
    },
    {
      "cell_type": "code",
      "metadata": {
        "id": "dm0ws8I2Fwtt"
      },
      "source": [
        "f = lambda x: 1/(1 + 25 * np.square(x))"
      ],
      "execution_count": 14,
      "outputs": []
    },
    {
      "cell_type": "code",
      "metadata": {
        "colab": {
          "base_uri": "https://localhost:8080/"
        },
        "id": "61-Kjx1RJtfy",
        "outputId": "54e0cbe9-a070-4883-f6cb-b41a10417023"
      },
      "source": [
        "integral = RegraSimpsonRepetida(f, a, b, 20)\n",
        "integral"
      ],
      "execution_count": 15,
      "outputs": [
        {
          "output_type": "execute_result",
          "data": {
            "text/plain": [
              "0.5485816035037206"
            ]
          },
          "metadata": {},
          "execution_count": 15
        }
      ]
    },
    {
      "cell_type": "code",
      "metadata": {
        "colab": {
          "base_uri": "https://localhost:8080/"
        },
        "id": "5zlfEgZYFuAV",
        "outputId": "d4c6c8ed-3edf-4e0e-ea9b-05f617f87e98"
      },
      "source": [
        "resultado, erro = quad(f, a, b)\n",
        "resultado, erro"
      ],
      "execution_count": 16,
      "outputs": [
        {
          "output_type": "execute_result",
          "data": {
            "text/plain": [
              "(0.5493603067780066, 2.8668279350011863e-09)"
            ]
          },
          "metadata": {},
          "execution_count": 16
        }
      ]
    },
    {
      "cell_type": "code",
      "metadata": {
        "colab": {
          "base_uri": "https://localhost:8080/"
        },
        "id": "_USQzzJrJ1UE",
        "outputId": "7aa24f1a-cb35-4267-9c02-70cb1598fb23"
      },
      "source": [
        "np.abs(integral - resultado) < 0.02 + erro"
      ],
      "execution_count": 17,
      "outputs": [
        {
          "output_type": "execute_result",
          "data": {
            "text/plain": [
              "True"
            ]
          },
          "metadata": {},
          "execution_count": 17
        }
      ]
    },
    {
      "cell_type": "markdown",
      "metadata": {
        "id": "GBJF6xAcKBoE"
      },
      "source": [
        "De fato, a integral foi calculada. E, ao comparar seu valor com a obtida por meio de `scipy.integrate.quad`, atestei que o erro esteve dentro da resolução ocorrida.\n",
        "\n",
        "Portanto, concluímos que a fórmula de Newton-Cotes fechada pode fornecer uma boa aproximação para $I$ com $n$ grande."
      ]
    }
  ]
}