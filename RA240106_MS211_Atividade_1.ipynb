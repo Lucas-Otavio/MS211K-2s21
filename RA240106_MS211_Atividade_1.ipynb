{
  "nbformat": 4,
  "nbformat_minor": 0,
  "metadata": {
    "colab": {
      "name": "RA240106 - MS211 - Atividade 1.ipynb",
      "provenance": []
    },
    "kernelspec": {
      "name": "python3",
      "display_name": "Python 3"
    },
    "language_info": {
      "name": "python"
    }
  },
  "cells": [
    {
      "cell_type": "code",
      "metadata": {
        "id": "FEb3lPt2nCId"
      },
      "source": [
        "import numpy as np\n",
        "import matplotlib.pyplot as plt\n",
        "import math"
      ],
      "execution_count": null,
      "outputs": []
    },
    {
      "cell_type": "markdown",
      "metadata": {
        "id": "lQV0xMb9mOzy"
      },
      "source": [
        "# Questão 1"
      ]
    },
    {
      "cell_type": "markdown",
      "metadata": {
        "id": "sADzn5fwmSQW"
      },
      "source": [
        "Considere a função\n",
        "$E(n) = \n",
        "\\left(1 +\n",
        "\\frac{1}{n}\n",
        "\\right)^n\n",
        "$\n",
        "\n",
        "Sabe-se, do curso de Cálculo, que $\\lim_{n \\rightarrow \\infty} E(n) = e$.\n",
        "\n",
        "Usando Python, avalie o valor de $E$ nos valores\n",
        "$n$ = $10^0$, $10^3$, $10^6$, $10^9$, $10^{12}$, $10^{15}$ e $10^{18}$.\n",
        "\n",
        "Compare os valores obtidos com o número e e comente sobre os resultados obtidos."
      ]
    },
    {
      "cell_type": "markdown",
      "metadata": {
        "id": "EnaS0O0erL-o"
      },
      "source": [
        "Após implementar $E(n)$ via programação funcional e gerar os dados de entrada por meio da biblioteca `numpy`, calculei os valores da saída $E(n)$ de acordo com a entrada"
      ]
    },
    {
      "cell_type": "code",
      "metadata": {
        "colab": {
          "base_uri": "https://localhost:8080/"
        },
        "id": "acE9CpI8mIJQ",
        "outputId": "7aafc551-4fe7-4ea4-a71f-af557c3be27f"
      },
      "source": [
        "# Funcao que calcula E(n)\n",
        "E = lambda n: np.power(1 + 1/n, n)\n",
        "\n",
        "# valores guarda o conjunto de valores que n assume\n",
        "valores = np.power(10, np.array([3*i for i in range(7)]))\n",
        "for num in valores:\n",
        "  print(\"%.1e\" %num)"
      ],
      "execution_count": null,
      "outputs": [
        {
          "output_type": "stream",
          "text": [
            "1.0e+00\n",
            "1.0e+03\n",
            "1.0e+06\n",
            "1.0e+09\n",
            "1.0e+12\n",
            "1.0e+15\n",
            "1.0e+18\n"
          ],
          "name": "stdout"
        }
      ]
    },
    {
      "cell_type": "code",
      "metadata": {
        "colab": {
          "base_uri": "https://localhost:8080/"
        },
        "id": "N11-9-2dn32u",
        "outputId": "e77c0b4b-fdf6-4ba9-dd77-eb2ae13f4aa0"
      },
      "source": [
        "saida = E(valores)\n",
        "\n",
        "print(\"Alvo:\", np.exp(1.0))\n",
        "\n",
        "print(\"\\nSaida:\")\n",
        "for num in saida:\n",
        "  print(num)"
      ],
      "execution_count": null,
      "outputs": [
        {
          "output_type": "stream",
          "text": [
            "Alvo: 2.718281828459045\n",
            "\n",
            "Saida:\n",
            "2.0\n",
            "2.7169239322355936\n",
            "2.7182804690957534\n",
            "2.7182820520115603\n",
            "2.7185234960372378\n",
            "3.035035206549262\n",
            "1.0\n"
          ],
          "name": "stdout"
        }
      ]
    },
    {
      "cell_type": "markdown",
      "metadata": {
        "id": "sXVPGnhnrqw_"
      },
      "source": [
        "Comparando os resultados com $e$, notei que o aumento do valor de $n$ aproxima $E(n)$ de $e$ até $n = 10^9$. A partir desse valor, o aumento de $n$ afasta $E(n)$ de $e$.\n",
        "\n",
        "Para visualizar esse resultado, confeccionei um gráfico de $n$ por Erro Relativo $\\left| E(n) - e\\right|$ em escala log-log com auxílio da biblioteca `matplotlib.pyplot`. A representação visual concorda com o observado nos dados.\n",
        "\n",
        "Considerando o estudado em MS211 e em Cálculo, concluí que o comportamento no intervalo $[10^0, 10^9]$ se deve à aproximação de $n$ do infinito conforme prevê a análise do limite; e, no intervalo $[10^9, 10^{18}]$, a aparente contradição entre o incremento do valor de $n$ aumentar o erro relativo ocorre por causa das limitações de precisão do ponto flutuante. Isto é, para $n > 10^9$, os erros de arrendondamento passam a influenciar o resultado, afastando o valor calculado da resposta correta da conta. \n",
        "\n",
        "Tal fato deve ocorrer devido à aproximação do erro relativo máximo de $\\frac{1}{n}$ do épsilon da máquina $\\epsilon_{mach} = 2,2 \\times 10^{-16}$ com o aumento de $n$. Por exemplo, $\\frac{1}{10^{18}} = 10^{-18} < 2,2 \\times 10^{-16}$, o que afeta o resultado de $1 + \\frac{1}{n}$. Em sequência, o cálculo do expoente pode propagar o erro."
      ]
    },
    {
      "cell_type": "code",
      "metadata": {
        "colab": {
          "base_uri": "https://localhost:8080/",
          "height": 301
        },
        "id": "w2gG1_aBohEc",
        "outputId": "eba93cec-bade-4209-8a7a-8069832cc750"
      },
      "source": [
        "erro_rel = np.abs(saida - np.exp(1.0)) / saida\n",
        "plt.loglog(valores, erro_rel, \"o\")\n",
        "plt.xlabel(\"$n$\")\n",
        "plt.ylabel(\"Erro Relativo\")\n",
        "plt.title(\"Erro Relativo de $ E(n) = e$\")\n",
        "\n",
        "plt.show()"
      ],
      "execution_count": null,
      "outputs": [
        {
          "output_type": "display_data",
          "data": {
            "image/png": "[encoded data removed]",
            "text/plain": [
              "<Figure size 432x288 with 1 Axes>"
            ]
          },
          "metadata": {
            "tags": [],
            "needs_background": "light"
          }
        }
      ]
    },
    {
      "cell_type": "markdown",
      "metadata": {
        "id": "Sa-wWnEO4B7A"
      },
      "source": [
        "# Questão 2"
      ]
    },
    {
      "cell_type": "markdown",
      "metadata": {
        "id": "uICQ5zKj4Fvu"
      },
      "source": [
        "Determine a menor raiz positiva da equação\n",
        "\n",
        "$0.05010 x^2 − 98.78 x + 5.015 = 0$,\n",
        "\n",
        "considerando o sistema de pontos flutuantes $F(10, 4, 100, 100)$.\n",
        "\n",
        "Sabendo que a menor raiz da equação é\n",
        "$x = 0.05077069387$, determine o erro absoluto e o erro relativo do resultado obtido numericamente usando\n",
        "o sistema de pontos flutuantes."
      ]
    },
    {
      "cell_type": "code",
      "metadata": {
        "colab": {
          "base_uri": "https://localhost:8080/"
        },
        "id": "GY4GX_r34FTm",
        "outputId": "5dd8663e-1f36-461a-ace6-8efd7b4debb1"
      },
      "source": [
        "emach = 0.5 * 10 ** (1 - 4)\n",
        "\n",
        "def fl(x):\n",
        "    return float( format(x, \"1.3e\") )\n",
        "\n",
        "emach"
      ],
      "execution_count": null,
      "outputs": [
        {
          "output_type": "execute_result",
          "data": {
            "text/plain": [
              "0.0005"
            ]
          },
          "metadata": {
            "tags": []
          },
          "execution_count": 25
        }
      ]
    },
    {
      "cell_type": "markdown",
      "metadata": {
        "id": "MY1VEalI63HR"
      },
      "source": [
        "Para encontrar a menor raiz, avaliei a versão negativa da Fórmula de Bhaskara.\n",
        "\n",
        "$x_{menor} = \\dfrac{-b - \\sqrt{b^2 - 4 \\times a \\times c}}{2 \\times a}$\n",
        "\n",
        "Considerando o sistema de ponto flutuante descrito, criei uma função (`fl(x)`) que realiza a conversão de um número real para o sistema.\n",
        "\n",
        "Então, pude determinar os coeficientes da função para utilizá-los na fórmula de $x_{menor}$ e obtive $a = 0.0501$, $b = -98.78$, $c = 5.015$."
      ]
    },
    {
      "cell_type": "code",
      "metadata": {
        "colab": {
          "base_uri": "https://localhost:8080/"
        },
        "id": "z3T3eZ8Z6t-o",
        "outputId": "12e2a9a4-bf8f-4168-9e15-931a5dac33f1"
      },
      "source": [
        "a = fl(0.05010)\n",
        "b = fl(-98.78)\n",
        "c = fl(5.015)\n",
        "a, b, c"
      ],
      "execution_count": null,
      "outputs": [
        {
          "output_type": "execute_result",
          "data": {
            "text/plain": [
              "(0.0501, -98.78, 5.015)"
            ]
          },
          "metadata": {
            "tags": []
          },
          "execution_count": 26
        }
      ]
    },
    {
      "cell_type": "code",
      "metadata": {
        "id": "t1G9MjXR72ic"
      },
      "source": [
        "def plus(x, y):\n",
        "    return fl(x + y)\n",
        "\n",
        "def minus(x, y):\n",
        "    return plus(x, -y)\n",
        "\n",
        "def times(x, y):\n",
        "    return fl(x * y)\n",
        "\n",
        "def sq(x):\n",
        "    return times(x, x)\n",
        "\n",
        "def div(x, y):\n",
        "    return fl(x / y)\n",
        "\n",
        "def sqrt(x):\n",
        "    return fl(np.sqrt(x))"
      ],
      "execution_count": null,
      "outputs": []
    },
    {
      "cell_type": "markdown",
      "metadata": {
        "id": "9XS1XTru_fSz"
      },
      "source": [
        "Após adaptar as operações matemáticas para versões respectivas que considerassem o sistema de ponto flutuante utilizado, calculei o valor de $x_{menor}$. O resultado foi $x_{menor} = 0.0998$. Considerando que o valor correto é $x_{menor} = 0.05077069387$, o cálculo apresentou erros absoluto de $0.04903$ e relativo de $0.9657$, aproximadamente."
      ]
    },
    {
      "cell_type": "code",
      "metadata": {
        "colab": {
          "base_uri": "https://localhost:8080/"
        },
        "id": "MPF0Nt4g-jr6",
        "outputId": "2919c07b-e2d3-439c-cf4e-985652df1f20"
      },
      "source": [
        "x_menor = div( minus( -b, sqrt( minus( sq(b), times(4, times(a, c) ) ) ) ), times(2, a) )\n",
        "x_menor"
      ],
      "execution_count": null,
      "outputs": [
        {
          "output_type": "execute_result",
          "data": {
            "text/plain": [
              "0.0998"
            ]
          },
          "metadata": {
            "tags": []
          },
          "execution_count": 28
        }
      ]
    },
    {
      "cell_type": "code",
      "metadata": {
        "colab": {
          "base_uri": "https://localhost:8080/"
        },
        "id": "rnWZrrv-CnGv",
        "outputId": "bfcfdc6a-a2d5-488c-9b63-f294edaac53d"
      },
      "source": [
        "x_menor_dado = 0.05077069387\n",
        "\n",
        "erro_absoluto = abs(x_menor_dado - x_menor)\n",
        "erro_relativo = erro_absoluto/x_menor_dado\n",
        "\n",
        "erro_absoluto, erro_relativo"
      ],
      "execution_count": null,
      "outputs": [
        {
          "output_type": "execute_result",
          "data": {
            "text/plain": [
              "(0.04902930613, 0.9657009269075801)"
            ]
          },
          "metadata": {
            "tags": []
          },
          "execution_count": 29
        }
      ]
    }
  ]
}