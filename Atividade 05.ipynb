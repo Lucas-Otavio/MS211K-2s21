{
  "nbformat": 4,
  "nbformat_minor": 0,
  "metadata": {
    "colab": {
      "name": "RA240106 - MS211 - Atividade 5.ipynb",
      "provenance": []
    },
    "kernelspec": {
      "name": "python3",
      "display_name": "Python 3"
    },
    "language_info": {
      "name": "python"
    }
  },
  "cells": [
    {
      "cell_type": "markdown",
      "metadata": {
        "id": "KUlkd_J9s50T"
      },
      "source": [
        "Considere a equação\n",
        "\n",
        "$x − 2 \\sin{x} = 0$."
      ]
    },
    {
      "cell_type": "code",
      "metadata": {
        "id": "vfswM6EytJ0Y"
      },
      "source": [
        "import numpy as np\n",
        "import matplotlib.pyplot as plt\n",
        "\n",
        "f = lambda x: x - 2 * np.sin(x)"
      ],
      "execution_count": 1,
      "outputs": []
    },
    {
      "cell_type": "markdown",
      "metadata": {
        "id": "plh-ZG9Dsv5F"
      },
      "source": [
        "# Questão 1\n",
        "\n",
        "Mostre que essa equação possui três raízes. Determine três intervalos, cada um contendo uma única raiz da equação."
      ]
    },
    {
      "cell_type": "markdown",
      "metadata": {
        "id": "qxdmaPgKuqBp"
      },
      "source": [
        "Avaliando a função $f(x) = x - 2 \\times \\sin{x}$ para os valores $x = -\\frac{2 \\pi}{3}$, $x = -\\frac{\\pi}{6}$, $x = \\frac{\\pi}{6}$ e $x = \\frac{2 \\pi}{3}$, encontrei:\n",
        "\n",
        "* $f\\left(-\\frac{2 \\pi}{3}\\right) \\approx -0.36$\n",
        "* $f\\left(-\\frac{\\pi}{6}\\right) \\approx 0.48$\n",
        "* $f\\left(\\frac{\\pi}{6}\\right) \\approx -0.48$\n",
        "* $f\\left(\\frac{2 \\pi}{3}\\right) \\approx 0.36$\n",
        "\n",
        "Dessa forma, pelo Teorema do Valor Intermediário, segue que a função apresenta ao menos três raízes, cada uma contida em um intervalo:\n",
        "\n",
        "* $\\left[ -\\frac{2 \\pi}{3},  -\\frac{\\pi}{6} \\right]$\n",
        "* $\\left[ -\\frac{\\pi}{6},  \\frac{\\pi}{6} \\right]$\n",
        "* $\\left[ \\frac{\\pi}{6},  \\frac{2 \\pi}{3} \\right]$"
      ]
    },
    {
      "cell_type": "code",
      "metadata": {
        "colab": {
          "base_uri": "https://localhost:8080/"
        },
        "id": "1KNiyTWzsjZW",
        "outputId": "8e71f8e8-4d50-4b7a-dca4-ed680baf8490"
      },
      "source": [
        "f(-2/3 * np.pi), f(-1/6 * np.pi), f(1/6 * np.pi), f(2/3 * np.pi)"
      ],
      "execution_count": 2,
      "outputs": [
        {
          "output_type": "execute_result",
          "data": {
            "text/plain": [
              "(-0.36234429482431785,\n",
              " 0.4764012244017011,\n",
              " -0.4764012244017011,\n",
              " 0.36234429482431785)"
            ]
          },
          "metadata": {},
          "execution_count": 2
        }
      ]
    },
    {
      "cell_type": "markdown",
      "metadata": {
        "id": "HODSevyTywsi"
      },
      "source": [
        "# Questão 2\n",
        "\n",
        "Determine as três raízes da equação acima usando os métodos da bissecção e da posição falsa. Compare os dois métodos com respeito ao número de iterações efetuadas."
      ]
    },
    {
      "cell_type": "code",
      "metadata": {
        "id": "lYOUtvaJzzfb"
      },
      "source": [
        "limites = [-2/3 * np.pi, -1/6 * np.pi, 1/6 * np.pi, 2/3 * np.pi]"
      ],
      "execution_count": 3,
      "outputs": []
    },
    {
      "cell_type": "markdown",
      "metadata": {
        "id": "O6hCRHa7zn3y"
      },
      "source": [
        "## Método da Bissecção\n",
        "\n",
        "$m = \\frac{a+b}{2}$"
      ]
    },
    {
      "cell_type": "code",
      "metadata": {
        "id": "KUlw5T7xyzC7"
      },
      "source": [
        "def MetodoBisseccao(f,a,b,tau=1.e-6,epsilon=1.e-6):\n",
        "    fa, fb = f(a), f(b)\n",
        "    if fa * fb >= 0:\n",
        "        print(\"Não é possivel garantir uma raiz no intervalo dado.\")\n",
        "        return\n",
        "    # Calcular o ponto médio.\n",
        "    m = (a + b) / 2\n",
        "    fm = f(m)\n",
        "    cont = 0\n",
        "    print(\"Iteração(%02d): (%2.2f,%2.2f)\" %(cont,a,b))\n",
        "    while (b - a > 2 * tau)  and  (np.abs(fm) > epsilon):\n",
        "        cont += 1\n",
        "        if np.sign(fm) * np.sign(fb) < 0:\n",
        "            a = m\n",
        "            fa = fm\n",
        "        else:\n",
        "            b = m\n",
        "            fb = fm\n",
        "        m = (a + b) / 2\n",
        "        fm = f(m)\n",
        "        print(\"Iteração(%02d): (%2.2f,%2.2f)\" %(cont,a,b))\n",
        "    return m"
      ],
      "execution_count": 4,
      "outputs": []
    },
    {
      "cell_type": "code",
      "metadata": {
        "colab": {
          "base_uri": "https://localhost:8080/"
        },
        "id": "kBv-t_W5zf8c",
        "outputId": "0470dcb3-6f9f-4f90-91b6-c9df59a5a670"
      },
      "source": [
        "raizesMB = list()\n",
        "\n",
        "for i in range((len(limites)) - 1):\n",
        "    raiz = MetodoBisseccao(f, limites[i], limites[i+1])\n",
        "    print(raiz, \"\\n\")\n",
        "    raizesMB.append(raiz)"
      ],
      "execution_count": 5,
      "outputs": [
        {
          "output_type": "stream",
          "name": "stdout",
          "text": [
            "Iteração(00): (-2.09,-0.52)\n",
            "Iteração(01): (-2.09,-1.31)\n",
            "Iteração(02): (-2.09,-1.70)\n",
            "Iteração(03): (-1.90,-1.70)\n",
            "Iteração(04): (-1.90,-1.80)\n",
            "Iteração(05): (-1.90,-1.85)\n",
            "Iteração(06): (-1.90,-1.87)\n",
            "Iteração(07): (-1.90,-1.89)\n",
            "Iteração(08): (-1.90,-1.89)\n",
            "Iteração(09): (-1.90,-1.89)\n",
            "Iteração(10): (-1.90,-1.89)\n",
            "Iteração(11): (-1.90,-1.89)\n",
            "Iteração(12): (-1.90,-1.90)\n",
            "Iteração(13): (-1.90,-1.90)\n",
            "Iteração(14): (-1.90,-1.90)\n",
            "Iteração(15): (-1.90,-1.90)\n",
            "Iteração(16): (-1.90,-1.90)\n",
            "Iteração(17): (-1.90,-1.90)\n",
            "Iteração(18): (-1.90,-1.90)\n",
            "Iteração(19): (-1.90,-1.90)\n",
            "-1.8954944196671053 \n",
            "\n",
            "Iteração(00): (-0.52,0.52)\n",
            "0.0 \n",
            "\n",
            "Iteração(00): (0.52,2.09)\n",
            "Iteração(01): (1.31,2.09)\n",
            "Iteração(02): (1.70,2.09)\n",
            "Iteração(03): (1.70,1.90)\n",
            "Iteração(04): (1.80,1.90)\n",
            "Iteração(05): (1.85,1.90)\n",
            "Iteração(06): (1.87,1.90)\n",
            "Iteração(07): (1.89,1.90)\n",
            "Iteração(08): (1.89,1.90)\n",
            "Iteração(09): (1.89,1.90)\n",
            "Iteração(10): (1.89,1.90)\n",
            "Iteração(11): (1.89,1.90)\n",
            "Iteração(12): (1.90,1.90)\n",
            "Iteração(13): (1.90,1.90)\n",
            "Iteração(14): (1.90,1.90)\n",
            "Iteração(15): (1.90,1.90)\n",
            "Iteração(16): (1.90,1.90)\n",
            "Iteração(17): (1.90,1.90)\n",
            "Iteração(18): (1.90,1.90)\n",
            "Iteração(19): (1.90,1.90)\n",
            "1.8954944196671053 \n",
            "\n"
          ]
        }
      ]
    },
    {
      "cell_type": "code",
      "metadata": {
        "colab": {
          "base_uri": "https://localhost:8080/"
        },
        "id": "TTwsHROl0vt9",
        "outputId": "fbf0ab91-f437-4229-f2a6-4799de90234e"
      },
      "source": [
        "f(raizesMB)"
      ],
      "execution_count": 6,
      "outputs": [
        {
          "output_type": "execute_result",
          "data": {
            "text/plain": [
              "array([-2.50019956e-07,  0.00000000e+00,  2.50019956e-07])"
            ]
          },
          "metadata": {},
          "execution_count": 6
        }
      ]
    },
    {
      "cell_type": "markdown",
      "metadata": {
        "id": "EY_QlQxH0_UA"
      },
      "source": [
        "## Método da Posição Falsa\n",
        "\n",
        "$m = b - \\frac{f(b)}{d}$, em que $d = \\frac{f(b) - f(a)}{b - a}$"
      ]
    },
    {
      "cell_type": "code",
      "metadata": {
        "id": "2YAAuohu1Nbq"
      },
      "source": [
        "def MetodoPosicaoFalsa(f,a,b,tau=1.e-6,epsilon=1.e-6):\n",
        "    fa = f(a)\n",
        "    fb = f(b)\n",
        "    if fa * fb >= 0:\n",
        "        print(\"Não é possivel garantir uma raiz no intervalo dado.\")\n",
        "        return\n",
        "    # Calcular o ponto médio.\n",
        "    d = (fb - fa) / (b - a)\n",
        "    m = b - fb/d\n",
        "    fm = f(m)\n",
        "    count = 0\n",
        "    print(\"Iteração(%02d): (%2.2f,%2.2f)\" % (count,a,b))\n",
        "    while (b - a > 2 * tau)  and  (np.abs(fm) > epsilon):\n",
        "        count += 1\n",
        "        if np.sign(fm) * np.sign(fb) < 0:\n",
        "            a = m\n",
        "            fa = fm\n",
        "        else:\n",
        "            b = m\n",
        "            fb = fm\n",
        "        d = (fb - fa) / (b - a)\n",
        "        m = b - fb/d\n",
        "        fm = f(m)\n",
        "        print(\"Iteração(%02d): (%2.2f,%2.2f)\" % (count,a,b))\n",
        "    return m"
      ],
      "execution_count": 7,
      "outputs": []
    },
    {
      "cell_type": "code",
      "metadata": {
        "colab": {
          "base_uri": "https://localhost:8080/"
        },
        "id": "HKONDdKW1mF9",
        "outputId": "bf377346-6e76-4eb1-c5ef-bd8316c8034e"
      },
      "source": [
        "raizesPF = list()\n",
        "\n",
        "for i in range((len(limites)) - 1):\n",
        "    raiz = MetodoPosicaoFalsa(f, limites[i], limites[i+1])\n",
        "    print(raiz, \"\\n\")\n",
        "    raizesPF.append(raiz)"
      ],
      "execution_count": 8,
      "outputs": [
        {
          "output_type": "stream",
          "name": "stdout",
          "text": [
            "Iteração(00): (-2.09,-0.52)\n",
            "Iteração(01): (-2.09,-1.42)\n",
            "Iteração(02): (-2.09,-1.83)\n",
            "Iteração(03): (-2.09,-1.89)\n",
            "Iteração(04): (-2.09,-1.89)\n",
            "Iteração(05): (-2.09,-1.90)\n",
            "Iteração(06): (-2.09,-1.90)\n",
            "Iteração(07): (-2.09,-1.90)\n",
            "-1.8954941924170243 \n",
            "\n",
            "Iteração(00): (-0.52,0.52)\n",
            "0.0 \n",
            "\n",
            "Iteração(00): (0.52,2.09)\n",
            "Iteração(01): (1.42,2.09)\n",
            "Iteração(02): (1.83,2.09)\n",
            "Iteração(03): (1.89,2.09)\n",
            "Iteração(04): (1.89,2.09)\n",
            "Iteração(05): (1.90,2.09)\n",
            "Iteração(06): (1.90,2.09)\n",
            "Iteração(07): (1.90,2.09)\n",
            "1.8954941924170243 \n",
            "\n"
          ]
        }
      ]
    },
    {
      "cell_type": "code",
      "metadata": {
        "colab": {
          "base_uri": "https://localhost:8080/"
        },
        "id": "EERJ8R892HdF",
        "outputId": "fdb1a594-b9b8-4acd-f8bf-15933436dbb1"
      },
      "source": [
        "f(raizesPF)"
      ],
      "execution_count": 9,
      "outputs": [
        {
          "output_type": "execute_result",
          "data": {
            "text/plain": [
              "array([ 1.22225931e-07,  0.00000000e+00, -1.22225931e-07])"
            ]
          },
          "metadata": {},
          "execution_count": 9
        }
      ]
    },
    {
      "cell_type": "markdown",
      "metadata": {
        "id": "tAchicQD2Tvt"
      },
      "source": [
        "## Comparação entre Métodos\n",
        "\n",
        "Os dois métodos obtiveram aproximações corretas, com precisão aceitável.\n",
        "\n",
        "O número de iterações variou: Para as raízes de menor e maior valor, o método da Bisecção efetuou 19 iterações, enquanto o método da Posição Falsa iterou 7 vezes. Ou seja, o segundo método necessitou de menos iterações.\n",
        "\n",
        "Para a raiz de valor mediano, os dois métodos efetuaram zero iteração, de forma que não precisaram recalcular $m$.\n",
        "\n",
        "Possivelmente, a similaridade no comportamento dos métodos para as raízes menor e maior, bem como a necessidade de nenhuma iteração para a raiz mediana, foram resultados da escolha de limites simétricos para os intervalos e da distribuição simétrica das raízes da função."
      ]
    },
    {
      "cell_type": "markdown",
      "metadata": {
        "id": "imYdjI6xELGM"
      },
      "source": [
        "# Questão 3\n",
        "\n",
        "Determine um invervalo que garante a convergência do método do ponto fixo definido por \n",
        "$x^{(k+1)} = 2 sen\\left(x^{(k)} \\right)$, com $k = 0, 1, \\dots $, para a raiz positiva da equação dada."
      ]
    },
    {
      "cell_type": "markdown",
      "metadata": {
        "id": "TAh0Uso2Fsiu"
      },
      "source": [
        "Vamos aplicar o Teorema do Ponto Fixo.\n",
        "\n",
        "A função $\\varphi(x)$ é dada por $\\varphi(x) = 2 \\sin x$.\n",
        "\n",
        "Assim, $\\varphi'(x) = 2 \\cos x$.\n",
        "\n",
        "Consequentemente, para que $\\varphi'(x) < 1$, é necessário que $2 \\cos x < 1 \\iff \\cos x < \\frac{1}{2}$.\n",
        "\n",
        "Pensando no ciclo trigonométrico, $\\cos x$ começa em $1$ para $x = 0$, e é decrescente até $x = \\pi$. Como $\\cos \\frac{\\pi}{3} = \\frac{1}{2}$, temos que o intervalo $\\left( \\frac{\\pi}{3}, \\pi\\right]$ garante convergência. Como $\\cos \\pi = -1$, $\\cos x$ é crescente para $\\pi < x < 2 \\pi$ e $\\cos \\frac{5 \\pi}{3} = \\frac{1}{2}$, a seção $\\left[ \\pi, \\frac{5\\pi}{3}\\right)$ também garante convergência.\n",
        "\n",
        "Logo, o intervalo $\\left( \\frac{\\pi}{3}, \\frac{5\\pi}{3} \\right)$ garante a convergência do método do ponto fixo definido por $x^{(k+1)} = 2 sen\\left(x^{(k)} \\right)$."
      ]
    },
    {
      "cell_type": "markdown",
      "metadata": {
        "id": "uzVlV3yoEJCi"
      },
      "source": [
        "O resultado abaixo mostra um exemplo de valor no intervalo que converge."
      ]
    },
    {
      "cell_type": "code",
      "metadata": {
        "id": "sKoYHq4K_cLD"
      },
      "source": [
        "def MetodoPontoFixo(phi,x0,kmax=100,tau=1.e-6):\n",
        "    k = 0\n",
        "    Er = [tau + 1]\n",
        "    while (k <= kmax)  and  (Er[-1] > tau):\n",
        "        k += 1\n",
        "        x = phi(x0)\n",
        "        Er.append( np.abs(x - x0) )\n",
        "        print(\"Iteração(%02d): (%2.2f)\" %(k, x0))\n",
        "        x0 = x\n",
        "    return x, Er\n",
        "\n",
        "phi = lambda x: 2 * np.sin(x)"
      ],
      "execution_count": 10,
      "outputs": []
    },
    {
      "cell_type": "code",
      "metadata": {
        "colab": {
          "base_uri": "https://localhost:8080/"
        },
        "id": "MjUANAQf_vuw",
        "outputId": "205680ef-a6dc-44c9-d51c-6d5af5871914"
      },
      "source": [
        "x, Er = MetodoPontoFixo(phi, np.pi/3 + 1e-5)"
      ],
      "execution_count": 11,
      "outputs": [
        {
          "output_type": "stream",
          "name": "stdout",
          "text": [
            "Iteração(01): (1.05)\n",
            "Iteração(02): (1.73)\n",
            "Iteração(03): (1.97)\n",
            "Iteração(04): (1.84)\n",
            "Iteração(05): (1.93)\n",
            "Iteração(06): (1.87)\n",
            "Iteração(07): (1.91)\n",
            "Iteração(08): (1.89)\n",
            "Iteração(09): (1.90)\n",
            "Iteração(10): (1.89)\n",
            "Iteração(11): (1.90)\n",
            "Iteração(12): (1.89)\n",
            "Iteração(13): (1.90)\n",
            "Iteração(14): (1.89)\n",
            "Iteração(15): (1.90)\n",
            "Iteração(16): (1.90)\n",
            "Iteração(17): (1.90)\n",
            "Iteração(18): (1.90)\n",
            "Iteração(19): (1.90)\n",
            "Iteração(20): (1.90)\n",
            "Iteração(21): (1.90)\n",
            "Iteração(22): (1.90)\n",
            "Iteração(23): (1.90)\n",
            "Iteração(24): (1.90)\n",
            "Iteração(25): (1.90)\n",
            "Iteração(26): (1.90)\n",
            "Iteração(27): (1.90)\n",
            "Iteração(28): (1.90)\n",
            "Iteração(29): (1.90)\n",
            "Iteração(30): (1.90)\n"
          ]
        }
      ]
    },
    {
      "cell_type": "code",
      "metadata": {
        "colab": {
          "base_uri": "https://localhost:8080/"
        },
        "id": "bvpV7gktDnbS",
        "outputId": "3f6c96c1-d022-49b0-ced4-624c085e9887"
      },
      "source": [
        "x, f(x)"
      ],
      "execution_count": 12,
      "outputs": [
        {
          "output_type": "execute_result",
          "data": {
            "text/plain": [
              "(1.8954945500434022, 4.635822570264736e-07)"
            ]
          },
          "metadata": {},
          "execution_count": 12
        }
      ]
    },
    {
      "cell_type": "markdown",
      "metadata": {
        "id": "Vatu5SDL--Vc"
      },
      "source": [
        "# Questão 4\n",
        "\n",
        "Apresente uma iteração de ponto fixo que converge para a raiz $ξ = 0$ da equação $x − 2 \\sin(x) = 0$."
      ]
    },
    {
      "cell_type": "markdown",
      "metadata": {
        "id": "Hfx8D8USGY2-"
      },
      "source": [
        "Reorganizando $x − 2 \\sin(x) = 0$, obtive $2 \\sin(x) = x \\iff \\sin(x) = \\frac{x}{2} \\iff x = \\arcsin \\frac{x}{2}$.\n",
        "\n",
        "Ou seja, temos $x^{(k+1)} = \\varphi_2 \\left(x^{(k)}\\right) = \\arcsin \\frac{\\left(x^{(k)}\\right)}{2}$\n",
        "\n",
        "Aplico o Teorema do Ponto Fixo para identificar um intervalo.\n",
        "\n",
        "$\\varphi_2'(x) = \\frac{1}{\\sqrt{4 - x^2}}$\n",
        "\n",
        "Consequentemente, para que $\\varphi_2'(x) < 1$, é necessário que $\\frac{1}{\\sqrt{4 - x^2}} < 1 \\iff 1 < \\sqrt{4 - x^2} \\iff 4 - x^2 > 1$.\n",
        "\n",
        "Rearranjando a expressão, temos $x^2 < 3 \\iff |x| < \\sqrt{3} \\iff -\\sqrt{3} < x < \\sqrt{3}$.\n",
        "\n",
        "Logo, a iteração deve seguir a função $\\varphi_2(x)= \\arcsin \\frac{x}{2}$ e conter $x^{(0)}$ tal que $ - \\sqrt{3} < x^{(0)} < \\sqrt{3}$.\n",
        "\n",
        "\n",
        "\n"
      ]
    },
    {
      "cell_type": "markdown",
      "metadata": {
        "id": "ArHdhaC7PtKJ"
      },
      "source": [
        "Abaixo, apresento a iteração com $\\varphi_2(x) = \\arcsin \\frac{x}{2}$ e $x^{(0)} = \\sqrt{3} - 1e-5$.\n",
        "\n",
        "O método convergiu e o resultado obtido foi $\\xi = 0$ conforme esperado.\n",
        "\n",
        "Ainda, confeccionei um gráfico que explicita a queda do erro até a tolerância $\\tau = 1e-6$ ao longo das iterações."
      ]
    },
    {
      "cell_type": "code",
      "metadata": {
        "id": "wS-0EUShGEYi"
      },
      "source": [
        "phi2 = lambda n: np.arcsin(n/2)"
      ],
      "execution_count": 13,
      "outputs": []
    },
    {
      "cell_type": "code",
      "metadata": {
        "colab": {
          "base_uri": "https://localhost:8080/"
        },
        "id": "xoMB-0njFtHN",
        "outputId": "f4edac0f-17eb-4dc6-9778-d9efcc9bfb5f"
      },
      "source": [
        "x, Er = MetodoPontoFixo(phi2, np.sqrt(3) - 1e-5)"
      ],
      "execution_count": 14,
      "outputs": [
        {
          "output_type": "stream",
          "name": "stdout",
          "text": [
            "Iteração(01): (1.73)\n",
            "Iteração(02): (1.05)\n",
            "Iteração(03): (0.55)\n",
            "Iteração(04): (0.28)\n",
            "Iteração(05): (0.14)\n",
            "Iteração(06): (0.07)\n",
            "Iteração(07): (0.04)\n",
            "Iteração(08): (0.02)\n",
            "Iteração(09): (0.01)\n",
            "Iteração(10): (0.00)\n",
            "Iteração(11): (0.00)\n",
            "Iteração(12): (0.00)\n",
            "Iteração(13): (0.00)\n",
            "Iteração(14): (0.00)\n",
            "Iteração(15): (0.00)\n",
            "Iteração(16): (0.00)\n",
            "Iteração(17): (0.00)\n",
            "Iteração(18): (0.00)\n",
            "Iteração(19): (0.00)\n",
            "Iteração(20): (0.00)\n",
            "Iteração(21): (0.00)\n",
            "Iteração(22): (0.00)\n"
          ]
        }
      ]
    },
    {
      "cell_type": "code",
      "metadata": {
        "colab": {
          "base_uri": "https://localhost:8080/"
        },
        "id": "rZ1tvIvqMJaa",
        "outputId": "750c28b9-0e9c-47b2-c910-4b63bbbe612e"
      },
      "source": [
        "x, f(x)"
      ],
      "execution_count": 15,
      "outputs": [
        {
          "output_type": "execute_result",
          "data": {
            "text/plain": [
              "(5.347501354132582e-07, -5.347501354132071e-07)"
            ]
          },
          "metadata": {},
          "execution_count": 15
        }
      ]
    },
    {
      "cell_type": "code",
      "metadata": {
        "colab": {
          "base_uri": "https://localhost:8080/",
          "height": 288
        },
        "id": "PJcJGi55N3aK",
        "outputId": "af49ae61-65f6-42e3-d03d-9a02aa5f4e86"
      },
      "source": [
        "plt.semilogy(Er)\n",
        "plt.grid()\n",
        "plt.xlabel(\"Iteração $k$\", fontdict={\"size\":15})\n",
        "plt.ylabel(\"Erro $Er = |x^{(k)} - x^{(k-1)}|$\", fontdict={\"size\":15})\n",
        "plt.show()"
      ],
      "execution_count": 16,
      "outputs": [
        {
          "output_type": "display_data",
          "data": {
            "image/png": "[encoded data removed]",
            "text/plain": [
              "<Figure size 432x288 with 1 Axes>"
            ]
          },
          "metadata": {
            "needs_background": "light"
          }
        }
      ]
    }
  ]
}