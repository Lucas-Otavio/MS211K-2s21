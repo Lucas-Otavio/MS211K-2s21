{
  "nbformat": 4,
  "nbformat_minor": 0,
  "metadata": {
    "colab": {
      "name": "RA240106 - MS211 - Atividade 09.ipynb",
      "provenance": []
    },
    "kernelspec": {
      "name": "python3",
      "display_name": "Python 3"
    },
    "language_info": {
      "name": "python"
    }
  },
  "cells": [
    {
      "cell_type": "markdown",
      "metadata": {
        "id": "lbHXNbrTWwZi"
      },
      "source": [
        "Considere o problema de valor de contorno\n",
        "\n",
        "$$\n",
        "\\begin{cases}\n",
        "v'' + 2xv' − x^2v = x^2 \\\\\n",
        "v'(0) + v(0) = 1 \\\\\n",
        "v'(1) + \\frac{1}{2} v(1) = 0\n",
        "\\end{cases}\n",
        "$$"
      ]
    },
    {
      "cell_type": "markdown",
      "metadata": {
        "id": "oPWYAMJIWsnM"
      },
      "source": [
        "# Questão 1\n",
        "\n",
        "Escreva explicitamente o sistema de equações lineares que deve ser resolvido para obter uma aproximação\n",
        "numérica da solução do problema de valor de contorno acima usando o método de diferenças finitas com\n",
        "$h = \\frac{1}{4}$."
      ]
    },
    {
      "cell_type": "markdown",
      "metadata": {
        "id": "jOFqJOgAhh6C"
      },
      "source": [
        "## Introdução\n",
        "\n",
        "Reorganizando o sistema, obtive:\n",
        "\n",
        "$$\n",
        "\\begin{cases}\n",
        "v'' = - 2xv' + x^2v + x^2 \\\\\n",
        "v'(0) + v(0) = 1 \\\\\n",
        "v'(1) + \\frac{1}{2} v(1) = 0\n",
        "\\end{cases}\n",
        "$$\n",
        "\n",
        "tal que $A(x) = -2 x$, $B(x) = x^2$ e $C(x) = x^2$.\n",
        "\n",
        "Vimos que o Método das Diferenças Finitas aplica a fórmula\n",
        "\n",
        "$\n",
        "r_k v_{k-1} + p_k v_k + q_k v_{k+1} = - h^2 C_k \\; (1)\n",
        "$.\n",
        "\n",
        "Aplicarei $(1)$ para $k= 0, \\ldots, n+1$.\n",
        "\n",
        "Para os limites $k=0$ e $k=n+1$, há um problema pela indefinição dos valores $v_{-1}$ e $v_{n+2}$.\n",
        "\n"
      ]
    },
    {
      "cell_type": "markdown",
      "metadata": {
        "id": "laUWhi2joXD_"
      },
      "source": [
        "## $k=0$\n",
        "\n",
        "Em particular, quando $k=0$, $(1)$ vale:\n",
        "\n",
        "$\n",
        "r_0 v_{-1} + p_0 v_0 + q_0 v_1 = - h^2 C_0 \\; (2)\n",
        "$.\n",
        "\n",
        "Podemos definir o valor hipotético $v_{-1}$ a partir da condição de contorno:\n",
        "\n",
        "$v'(x_0) + v(x_0) = \\gamma_a \\iff \\frac{v_1 - v_{-1}}{2h} + v_0 = \\gamma_a \\iff v_1 - v_{-1} + 2 h v_0 = 2h \\gamma_a \\iff v_{-1} = v_1 + 2 h v_0 - 2h \\gamma_a$.\n",
        "\n",
        "Substituindo $v_{-1}$ em $(2)$, obtive:\n",
        "\n",
        "$r_0 \\times \\left(  v_1 + 2 h v_0 - 2h \\gamma_a  \\right) + p_0 v_0 + q_0 v_1 = - h^2 C_0$, que equivale a \n",
        "\n",
        "$(2 h r_0 + p_0) v_0 + (r_0 + q_0) v_1 = - h^2 C_0 + 2h  r_0\\gamma_a$\n",
        "\n",
        "Especificamente, $\\gamma_a = 1$, então segue\n",
        "\n",
        "$(2 h r_0 + p_0) v_0 + (r_0 + q_0) v_1 = - h^2 C_0 + 2h  r_0$.\n",
        "\n"
      ]
    },
    {
      "cell_type": "markdown",
      "metadata": {
        "id": "ntn3yNgaoYrt"
      },
      "source": [
        "## $k=n+1$\n",
        "\n",
        "Em particular, quando $k=n+1$, $(1)$ vale:\n",
        "\n",
        "$\n",
        "r_{n+1} v_{n} + p_{n+1} v_{n+1} + q_{n+1} v_{n+2} = - h^2 C_{n+1} \\; (3)\n",
        "$.\n",
        "\n",
        "Podemos definir o valor hipotético $v_{n+2}$ a partir da condição de contorno:\n",
        "\n",
        "$v'(x_{n+1}) + \\frac{1}{2} v(x_{n+1}) = \\gamma_b \\iff \\frac{v_{n+2} - v_{n}}{2h} + \\frac{1}{2} v_{n+1} = \\gamma_b \\iff v_{n+2} - v_{n} + h v_{n+1} = 2h \\gamma_b \\iff v_{n+2} = v_n - h v_{n+1} + 2h \\gamma_b$.\n",
        "\n",
        "Substituindo $v_{n+2}$ em $(3)$, obtive:\n",
        "\n",
        "$r_{n+1} v_{n} + p_{n+1} v_{n+1} + q_{n+1} \\times \\left(  v_n - h v_{n+1} + 2h \\gamma_b  \\right) = - h^2 C_{n+1}$, que equivale a \n",
        "\n",
        "$(r_{n+1} + q_{n+1}) v_n + (p_{n+1} - h q_{n+1}) v_{n+1} = - h^2 C_{n+1} - 2h  q_{n+1} \\gamma_b$\n",
        "\n",
        "Especificamente, $\\gamma_b = 0$, então segue\n",
        "\n",
        "$(r_{n+1} + q_{n+1}) v_n + (p_{n+1} - h q_{n+1}) v_{n+1} = - h^2 C_{n+1}$."
      ]
    },
    {
      "cell_type": "markdown",
      "metadata": {
        "id": "RZFTKdCioftH"
      },
      "source": [
        "## Sistema a ser Resolvido\n",
        "\n",
        "Logo, o sistema a ser resolvido segue do caso geral $(1)$ e de suas instâncias para $k=0$ e $k=n+1$.\n",
        "\n",
        "$$\n",
        "\\begin{bmatrix}\n",
        "(2 h r_0 + p_0) & (r_0 + q_0) & & & & \\\\\n",
        "r_1 & p_1 & q_1 & & & \\\\\n",
        " & \\ddots & \\ddots & \\ddots &  &  \\\\\n",
        " & & r_n & p_n & q_n &  \\\\\n",
        " &  & & & (r_{n+1} + q_{n+1}) & (p_{n+1} - h q_{n+1}) \\\\\n",
        "\\end{bmatrix}\n",
        "\\begin{bmatrix}\n",
        "v_0 \\\\\n",
        "v_1 \\\\\n",
        "\\vdots \\\\\n",
        "v_n \\\\\n",
        "v_{n+1}\n",
        "\\end{bmatrix}\n",
        "=\n",
        "\\begin{bmatrix}\n",
        "- h^2 C_0 + 2 h r_0 \\\\\n",
        "- h^2 C_1 \\\\\n",
        "\\vdots \\\\\n",
        "-h^2 C_n \\\\\n",
        "-h^2 C_{n+1}\n",
        "\\end{bmatrix}\n",
        "$$\n",
        "\n",
        "em que \n",
        "\n",
        "$$\n",
        "\\begin{cases}\n",
        "A(x) = A_x = -2 x \\\\\n",
        "B(x) = B_x = x^2 \\\\\n",
        "C(x) = C_x = x^2 \\\\\n",
        "p_x = 2 + B_x h^2 \\\\\n",
        "q_x = -1 + \\frac{A_x h}{2} \\\\\n",
        "r_x = -1 - \\frac{A_x h}{2}\n",
        "\\end{cases}\n",
        "$$"
      ]
    },
    {
      "cell_type": "code",
      "metadata": {
        "id": "2b7jr_fnrd-F"
      },
      "source": [
        "import numpy as np\n",
        "import matplotlib.pyplot as plt"
      ],
      "execution_count": 1,
      "outputs": []
    },
    {
      "cell_type": "code",
      "metadata": {
        "id": "tsSLWovVWZuo"
      },
      "source": [
        "A = lambda x: - 2 * x\n",
        "B = lambda x: np.square(x)\n",
        "C = lambda x: np.square(x)\n",
        "\n",
        "p = lambda x,h: 2 + B(x) * np.square(h)\n",
        "q = lambda x,h: -1 + A(x) * h / 2\n",
        "r = lambda x,h: -1 - A(x) * h / 2"
      ],
      "execution_count": 2,
      "outputs": []
    },
    {
      "cell_type": "code",
      "metadata": {
        "id": "PI38CQGHr1tV"
      },
      "source": [
        "a = 0\n",
        "b = 1\n",
        "gamma_a = 1\n",
        "gamma_b = 0"
      ],
      "execution_count": 3,
      "outputs": []
    },
    {
      "cell_type": "code",
      "metadata": {
        "id": "XkYt0yYZ7Pza"
      },
      "source": [
        "def resolverSistema(h):\n",
        "    n = int((b - a)/h  -  1)\n",
        "    x = np.linspace(a, b, n+2)\n",
        "\n",
        "    mA = np.zeros((n+2,n+2))\n",
        "    vb = np.zeros((n+2,))\n",
        "\n",
        "    # Primeira linha da matriz e do vetor do lado direito:\n",
        "    mA[0,0] = 2 * h * r(x[0],h) + p(x[0],h)\n",
        "    mA[0,1] = r(x[0],h) + q(x[0],h)\n",
        "    vb[0] = 2*h*gamma_a*r(x[0],h) - np.square(h) * C(x[0])\n",
        "\n",
        "    # Equações para os pontos no interior da malha:\n",
        "    for k in range(1,n+1):\n",
        "        mA[k,k-1] = r(x[k],h)\n",
        "        mA[k,k] = p(x[k],h)\n",
        "        mA[k,k+1] = q(x[k],h)\n",
        "        vb[k] = - np.square(h) * C(x[k])\n",
        "\n",
        "    # Última linha da matriz e do vetor do lado direito:\n",
        "    mA[n+1,n] = r(x[n+1],h) + q(x[n+1],h)\n",
        "    mA[n+1,n+1] = p(x[n+1],h) - h * q(x[n+1],h)\n",
        "    vb[n+1] = - np.square(h) * C(x[n+1]) - 2 * h * q(x[n+1],h) * gamma_b\n",
        "\n",
        "    print(mA,vb)\n",
        "\n",
        "    v = np.linalg.solve(mA,vb)\n",
        "    return n, x, v"
      ],
      "execution_count": 4,
      "outputs": []
    },
    {
      "cell_type": "code",
      "metadata": {
        "id": "qdWK2qfB8ajA"
      },
      "source": [
        "def validarSistema(v, h, n):\n",
        "\n",
        "    dv = np.array([(v[i] - v[i-2])/(2*h) for i in range(2,n+2)])\n",
        "    dv = np.append(np.array((v[1] - v[0])/h), dv)\n",
        "    dv = np.append(dv, np.array((v[-1] - v[-2])/h))\n",
        "\n",
        "    plt.plot(x,v, color=\"blue\",label=\"$v$\")\n",
        "    plt.plot(x,dv,color=\"green\",label=\"$v'$\")\n",
        "    plt.plot(x,v+dv,color=\"orange\",label=\"$v' + v$\")\n",
        "    plt.plot(x,0.5*v+dv,color=\"red\",label=\"$v' + 0.5 v$\")\n",
        "    plt.scatter([0,1],[1,0],label=\"Contorno\",zorder=10)\n",
        "    plt.ylim((-9,13))\n",
        "\n",
        "    plt.legend()\n",
        "    plt.show()\n",
        "\n",
        "    return dv"
      ],
      "execution_count": 15,
      "outputs": []
    },
    {
      "cell_type": "code",
      "metadata": {
        "colab": {
          "base_uri": "https://localhost:8080/"
        },
        "id": "xmM80NM38QVJ",
        "outputId": "96130acc-8b77-4649-e638-53aa148a51ff"
      },
      "source": [
        "h = 2**-2\n",
        "n,x,v = resolverSistema(h)\n",
        "n, x, v"
      ],
      "execution_count": 16,
      "outputs": [
        {
          "output_type": "stream",
          "name": "stdout",
          "text": [
            "[[ 1.5        -2.          0.          0.          0.        ]\n",
            " [-0.9375      2.00390625 -1.0625      0.          0.        ]\n",
            " [ 0.         -0.875       2.015625   -1.125       0.        ]\n",
            " [ 0.          0.         -0.8125      2.03515625 -1.1875    ]\n",
            " [ 0.          0.          0.         -2.          2.375     ]] [-0.5        -0.00390625 -0.015625   -0.03515625 -0.0625    ]\n"
          ]
        },
        {
          "output_type": "execute_result",
          "data": {
            "text/plain": [
              "(3,\n",
              " array([0.  , 0.25, 0.5 , 0.75, 1.  ]),\n",
              " array([7.61027375, 5.95770531, 4.52513649, 3.4876543 , 2.91065625]))"
            ]
          },
          "metadata": {},
          "execution_count": 16
        }
      ]
    },
    {
      "cell_type": "code",
      "metadata": {
        "colab": {
          "base_uri": "https://localhost:8080/",
          "height": 265
        },
        "id": "YwXGxlkv4I1_",
        "outputId": "608dc9f5-fc00-43c5-b1bf-f7c1d6a463aa"
      },
      "source": [
        "dv = validarSistema(v,h,n)"
      ],
      "execution_count": 17,
      "outputs": [
        {
          "output_type": "display_data",
          "data": {
            "image/png": "[encoded data removed]",
            "text/plain": [
              "<Figure size 432x288 with 1 Axes>"
            ]
          },
          "metadata": {
            "needs_background": "light"
          }
        }
      ]
    },
    {
      "cell_type": "markdown",
      "metadata": {
        "id": "jhs7O6aFEWq1"
      },
      "source": [
        "Explicitamente, o sistema de equações lineares resolvido é:\n",
        "\n",
        "$$\n",
        "\\begin{bmatrix}\n",
        "1.5     &   -2.         & 0.      &    0.     &     0.        \\\\\n",
        "-0.9375  &    2.00390625 & -1.0625 &     0.    &      0.        \\\\\n",
        "0.        & -0.875 &      2.015625  & -1.125    &   0.        \\\\\n",
        "0.         & 0.     &   -0.8125    &  2.03515625 & -1.1875    \\\\\n",
        "0.          & 0.     &     0.       &  -2.      &    2.375\n",
        "\\end{bmatrix}\n",
        "\\begin{bmatrix}\n",
        "v_0 \\\\\n",
        "v_1 \\\\\n",
        "v_2 \\\\\n",
        "v_3 \\\\\n",
        "v_4\n",
        "\\end{bmatrix}\n",
        "\\begin{bmatrix}\n",
        "-0.5      \\\\\n",
        "-0.00390625 \\\\\n",
        "-0.015625   \\\\\n",
        "-0.03515625 \\\\\n",
        "-0.0625   \n",
        "\\end{bmatrix}\n",
        "$$\n",
        "\n",
        "A solução obtida satisfez a condição inicial de $v'(0)+v(0) = 1$, mas não satisfez a outra. Isso ocorreu pelo baixo número de pontos considerados."
      ]
    },
    {
      "cell_type": "markdown",
      "metadata": {
        "id": "gAuY-54SXXMZ"
      },
      "source": [
        "# Questão 2\n",
        "\n",
        "Encontre uma aproximação numérica do problema de valor de contorno acima usando o método de diferenças finitas com $h = \\frac{1}{64}$."
      ]
    },
    {
      "cell_type": "code",
      "metadata": {
        "colab": {
          "base_uri": "https://localhost:8080/"
        },
        "id": "cY_Ihrve-SKR",
        "outputId": "c86b538c-336f-4180-dbee-0c29afe19bb4"
      },
      "source": [
        "h=2**-6\n",
        "n, x, v = resolverSistema(h)\n",
        "n,x,v"
      ],
      "execution_count": 18,
      "outputs": [
        {
          "output_type": "stream",
          "name": "stdout",
          "text": [
            "[[ 1.96875    -2.          0.         ...  0.          0.\n",
            "   0.        ]\n",
            " [-0.99975586  2.00000006 -1.00024414 ...  0.          0.\n",
            "   0.        ]\n",
            " [ 0.         -0.99951172  2.00000024 ...  0.          0.\n",
            "   0.        ]\n",
            " ...\n",
            " [ 0.          0.          0.         ...  2.00022912 -1.01513672\n",
            "   0.        ]\n",
            " [ 0.          0.          0.         ... -0.98461914  2.00023657\n",
            "  -1.01538086]\n",
            " [ 0.          0.          0.         ...  0.         -2.\n",
            "   2.01611328]] [-3.12500000e-02 -5.96046448e-08 -2.38418579e-07 -5.36441803e-07\n",
            " -9.53674316e-07 -1.49011612e-06 -2.14576721e-06 -2.92062759e-06\n",
            " -3.81469727e-06 -4.82797623e-06 -5.96046448e-06 -7.21216202e-06\n",
            " -8.58306885e-06 -1.00731850e-05 -1.16825104e-05 -1.34110451e-05\n",
            " -1.52587891e-05 -1.72257423e-05 -1.93119049e-05 -2.15172768e-05\n",
            " -2.38418579e-05 -2.62856483e-05 -2.88486481e-05 -3.15308571e-05\n",
            " -3.43322754e-05 -3.72529030e-05 -4.02927399e-05 -4.34517860e-05\n",
            " -4.67300415e-05 -5.01275063e-05 -5.36441803e-05 -5.72800636e-05\n",
            " -6.10351562e-05 -6.49094582e-05 -6.89029694e-05 -7.30156898e-05\n",
            " -7.72476196e-05 -8.15987587e-05 -8.60691071e-05 -9.06586647e-05\n",
            " -9.53674316e-05 -1.00195408e-04 -1.05142593e-04 -1.10208988e-04\n",
            " -1.15394592e-04 -1.20699406e-04 -1.26123428e-04 -1.31666660e-04\n",
            " -1.37329102e-04 -1.43110752e-04 -1.49011612e-04 -1.55031681e-04\n",
            " -1.61170959e-04 -1.67429447e-04 -1.73807144e-04 -1.80304050e-04\n",
            " -1.86920166e-04 -1.93655491e-04 -2.00510025e-04 -2.07483768e-04\n",
            " -2.14576721e-04 -2.21788883e-04 -2.29120255e-04 -2.36570835e-04\n",
            " -2.44140625e-04]\n"
          ]
        },
        {
          "output_type": "execute_result",
          "data": {
            "text/plain": [
              "(63, array([0.      , 0.015625, 0.03125 , 0.046875, 0.0625  , 0.078125,\n",
              "        0.09375 , 0.109375, 0.125   , 0.140625, 0.15625 , 0.171875,\n",
              "        0.1875  , 0.203125, 0.21875 , 0.234375, 0.25    , 0.265625,\n",
              "        0.28125 , 0.296875, 0.3125  , 0.328125, 0.34375 , 0.359375,\n",
              "        0.375   , 0.390625, 0.40625 , 0.421875, 0.4375  , 0.453125,\n",
              "        0.46875 , 0.484375, 0.5     , 0.515625, 0.53125 , 0.546875,\n",
              "        0.5625  , 0.578125, 0.59375 , 0.609375, 0.625   , 0.640625,\n",
              "        0.65625 , 0.671875, 0.6875  , 0.703125, 0.71875 , 0.734375,\n",
              "        0.75    , 0.765625, 0.78125 , 0.796875, 0.8125  , 0.828125,\n",
              "        0.84375 , 0.859375, 0.875   , 0.890625, 0.90625 , 0.921875,\n",
              "        0.9375  , 0.953125, 0.96875 , 0.984375, 1.      ]), array([8.50474393, 8.38748231, 8.27027848, 8.15319127, 8.03628036,\n",
              "        7.91960617, 7.80322976, 7.68721266, 7.57161675, 7.45650414,\n",
              "        7.34193703, 7.22797757, 7.11468774, 7.00212922, 6.89036328,\n",
              "        6.77945062, 6.6694513 , 6.56042457, 6.45242881, 6.34552137,\n",
              "        6.23975849, 6.1351952 , 6.03188522, 5.92988087, 5.82923296,\n",
              "        5.72999074, 5.63220182, 5.53591207, 5.4411656 , 5.34800464,\n",
              "        5.25646955, 5.16659875, 5.07842864, 4.99199363, 4.90732608,\n",
              "        4.82445624, 4.74341232, 4.66422038, 4.5869044 , 4.51148625,\n",
              "        4.43798569, 4.3664204 , 4.29680597, 4.22915596, 4.16348189,\n",
              "        4.0997933 , 4.03809776, 3.97840094, 3.92070662, 3.86501678,\n",
              "        3.81133162, 3.75964962, 3.70996762, 3.66228086, 3.61658304,\n",
              "        3.57286642, 3.53112186, 3.4913389 , 3.45350581, 3.41760971,\n",
              "        3.3836366 , 3.35157149, 3.32139839, 3.29310046, 3.26666009]))"
            ]
          },
          "metadata": {},
          "execution_count": 18
        }
      ]
    },
    {
      "cell_type": "code",
      "metadata": {
        "colab": {
          "base_uri": "https://localhost:8080/",
          "height": 265
        },
        "id": "Otsj-QGz-WM9",
        "outputId": "e648b1ce-b263-48af-aa45-0f4b351e92da"
      },
      "source": [
        "dv = validarSistema(v,h,n)"
      ],
      "execution_count": 19,
      "outputs": [
        {
          "output_type": "display_data",
          "data": {
            "image/png": "[encoded data removed]",
            "text/plain": [
              "<Figure size 432x288 with 1 Axes>"
            ]
          },
          "metadata": {
            "needs_background": "light"
          }
        }
      ]
    },
    {
      "cell_type": "markdown",
      "metadata": {
        "id": "mT8-Zwp_GXLa"
      },
      "source": [
        "Reutilizando o código para $h = \\frac{1}{64}$, pude encontrar a nova aproximação numérica.\n",
        "\n",
        "A resolução do sistema com maior precisão $\\left(h = \\frac{1}{64}\\right)$ revelou que os valores de contorno são satisfeitos pelo método."
      ]
    }
  ]
}