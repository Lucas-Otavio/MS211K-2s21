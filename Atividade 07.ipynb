{
  "nbformat": 4,
  "nbformat_minor": 0,
  "metadata": {
    "colab": {
      "name": "RA240106 - MS211 - Atividade 7.ipynb",
      "provenance": [],
      "collapsed_sections": [],
      "toc_visible": true
    },
    "kernelspec": {
      "name": "python3",
      "display_name": "Python 3"
    },
    "language_info": {
      "name": "python"
    }
  },
  "cells": [
    {
      "cell_type": "code",
      "metadata": {
        "id": "wvsLhjHi9ZTd"
      },
      "source": [
        "import matplotlib.pyplot as plt\n",
        "import numpy as np"
      ],
      "execution_count": 1,
      "outputs": []
    },
    {
      "cell_type": "markdown",
      "metadata": {
        "id": "uMKxiWhcJJiB"
      },
      "source": [
        "# Questão 1\n",
        "\n",
        "Compare o número de iterações efetuadas pelos métodos de Newton e de Broyden para resolver o sistema\n",
        "de equações não-lineares\n",
        "\n",
        "$$\n",
        "F(x, y, z) = \n",
        "\\begin{bmatrix}\n",
        "16x^4 + 16y^4 + z^4 - 16 \\\\\n",
        "x^2 + y^2 + z^2 - 3 \\\\\n",
        "x^3 − y\n",
        "\\end{bmatrix} = \n",
        "\\begin{bmatrix}\n",
        "0 \\\\\n",
        "0 \\\\\n",
        "0\n",
        "\\end{bmatrix}\n",
        "$$\n",
        "\n",
        "da atividade anterior com aproximação inicial $(1, 1, 1)$ para ambos os métodos e a matriz\n",
        "\n",
        "$\n",
        "B(0) = [F(2, 1, 1) − F(1, 1, 1), F(1, 2, 1) − F(1, 1, 1), F(1, 1, 2) − F(1, 1, 1)]\n",
        "$\n",
        ",\n",
        "no método de Broyden. Comente os aspectos positivos e negativos do método de Broyden.\n"
      ]
    },
    {
      "cell_type": "code",
      "metadata": {
        "id": "uQ11Y3G5OiV8"
      },
      "source": [
        "F3 = lambda x, y, z: np.array([16*x**4 + 16*y**4 + z**4 - 16,\n",
        "                        x**2 + y**2 + z**2 - 3,\n",
        "                        x**3 - y])\n",
        "\n",
        "B0 = np.array([F3(2,1,1) - F3(1,1,1),\n",
        "      F3(1,2,1) - F3(1,1,1),\n",
        "      F3(1,1,2) - F3(1,1,1)])"
      ],
      "execution_count": 2,
      "outputs": []
    },
    {
      "cell_type": "code",
      "metadata": {
        "colab": {
          "base_uri": "https://localhost:8080/"
        },
        "id": "Gy9EmrGVPChO",
        "outputId": "70b03538-0ee2-4bfc-b2a8-7c17ed7c1ec1"
      },
      "source": [
        "B0"
      ],
      "execution_count": 3,
      "outputs": [
        {
          "output_type": "execute_result",
          "data": {
            "text/plain": [
              "array([[240,   3,   7],\n",
              "       [240,   3,  -1],\n",
              "       [ 15,   3,   0]])"
            ]
          },
          "metadata": {},
          "execution_count": 3
        }
      ]
    },
    {
      "cell_type": "markdown",
      "metadata": {
        "id": "aPbZuRI4WCnH"
      },
      "source": [
        "## Cálculo de $J(x)$\n",
        "\n",
        "Realizando as derivadas parciais adequadas, podemos determinar a matriz Jacobiana $J(x)$.\n",
        "\n",
        "$$J(x) =\n",
        "\\begin{bmatrix}\n",
        "64x^3 & 64y^3 & 4z^3 \\\\\n",
        "2x & 2y & 2z \\\\\n",
        "3x^2 & − 1 & 0\n",
        "\\end{bmatrix}\n",
        "$$"
      ]
    },
    {
      "cell_type": "code",
      "metadata": {
        "id": "NXyKYEHyVkUZ"
      },
      "source": [
        "F = lambda x: np.array([16*x[0]**4 + 16*x[1]**4 + x[2]**4 - 16,\n",
        "                        x[0]**2 + x[1]**2 + x[2]**2 - 3,\n",
        "                        x[0]**3 - x[1]])\n",
        "\n",
        "J = lambda x: np.array([[64*x[0]**3, 64*x[1]**3, 4*x[2]**3],\n",
        "                        [2*x[0], 2*x[1], 2*x[2]],\n",
        "                        [3*x[0]**2, - np.ones_like(x[1]), np.zeros_like(x[2])]])"
      ],
      "execution_count": 4,
      "outputs": []
    },
    {
      "cell_type": "markdown",
      "metadata": {
        "id": "lhddNmfDidgP"
      },
      "source": [
        "## Método de Newton\n",
        "\n",
        "Segue a função e evocação do Método de Newton."
      ]
    },
    {
      "cell_type": "code",
      "metadata": {
        "id": "Il1tS_caZG-0"
      },
      "source": [
        "def MetodoNewtonSNL(F,J,X0,kmax=100,tau=1.e-6, epsilon=1.e-6):\n",
        "    k = 0\n",
        "    Er = [tau+1]\n",
        "    X = [X0]\n",
        "    FX = F(X0)\n",
        "    while (k <= kmax)  and  (Er[-1] > tau)  and  (np.linalg.norm(FX,np.inf) > epsilon):\n",
        "        k += 1\n",
        "        s = np.linalg.solve(J(X[-1]), -F(X[-1]))\n",
        "        X.append(X[-1] + s)\n",
        "        Er.append(np.linalg.norm(s,np.inf))\n",
        "        FX = F(X[-1])\n",
        "        print(\"Iteração (%d): ||s||_inf = %.7f\" %(k, np.linalg.norm(s,np.inf)))\n",
        "    return X,Er"
      ],
      "execution_count": 5,
      "outputs": []
    },
    {
      "cell_type": "code",
      "metadata": {
        "colab": {
          "base_uri": "https://localhost:8080/"
        },
        "id": "QalaS4_3a2xG",
        "outputId": "e05d736e-d55e-4e36-e2fb-f2b21c014d21"
      },
      "source": [
        "X0 = np.array([1.0, 1.0, 1.0])\n",
        "X_N, Er_N = MetodoNewtonSNL(F, J, X0)"
      ],
      "execution_count": 6,
      "outputs": [
        {
          "output_type": "stream",
          "name": "stdout",
          "text": [
            "Iteração (1): ||s||_inf = 0.2833333\n",
            "Iteração (2): ||s||_inf = 0.0943241\n",
            "Iteração (3): ||s||_inf = 0.0159812\n",
            "Iteração (4): ||s||_inf = 0.0004374\n",
            "Iteração (5): ||s||_inf = 0.0000003\n"
          ]
        }
      ]
    },
    {
      "cell_type": "code",
      "metadata": {
        "colab": {
          "base_uri": "https://localhost:8080/"
        },
        "id": "FU_8YFItcOz9",
        "outputId": "2261fddb-bb68-44be-b676-8a86a1e1b6c1"
      },
      "source": [
        "X_N[-1], F(X_N[-1])"
      ],
      "execution_count": 7,
      "outputs": [
        {
          "output_type": "execute_result",
          "data": {
            "text/plain": [
              "(array([0.87796576, 0.67675697, 1.33085541]),\n",
              " array([9.29389898e-12, 2.04281037e-13, 1.42219569e-13]))"
            ]
          },
          "metadata": {},
          "execution_count": 7
        }
      ]
    },
    {
      "cell_type": "markdown",
      "metadata": {
        "id": "4VUEnSfciyff"
      },
      "source": [
        "O Método de Newton encontrou uma solução válida e convergiu rapidamente, com apenas cinco iterações."
      ]
    },
    {
      "cell_type": "markdown",
      "metadata": {
        "id": "TMco65BpimnW"
      },
      "source": [
        "## Método de Broyden\n",
        "\n",
        "Segue a função e a invocação do Método de Broyden."
      ]
    },
    {
      "cell_type": "code",
      "metadata": {
        "id": "PT-ncTQRSVAN"
      },
      "source": [
        "def MetodoBroyden(F,B,x,kmax=1000,tau=1.e-6,epsilon=1.e-6):\n",
        "    x_list = [x]\n",
        "    n = x.shape[0]\n",
        "    k = 0\n",
        "    Fx = F(x)\n",
        "    Dr = [tau+1]\n",
        "\n",
        "    while (k <= kmax)  and  (np.linalg.norm(Fx,np.inf) > epsilon)  and  (Dr[-1] > tau):\n",
        "        k += 1\n",
        "        s = np.linalg.solve(B,-Fx)\n",
        "        x = x + s\n",
        "\n",
        "        x_list.append(x)\n",
        "        Dr.append(np.linalg.norm(s,np.inf))\n",
        "        Fx = F(x)\n",
        "        B = B + (1/(s.T@s))*(Fx.reshape(n,1)@s.reshape(1,n))\n",
        "        print(\"Iteração (%d): ||s||_inf = %.7f\" %(k, np.linalg.norm(s,np.inf)))\n",
        "    return np.array(x_list),Dr"
      ],
      "execution_count": 8,
      "outputs": []
    },
    {
      "cell_type": "code",
      "metadata": {
        "colab": {
          "base_uri": "https://localhost:8080/"
        },
        "id": "W9ysN-HeT14I",
        "outputId": "83879ed7-be46-4094-ddfe-bdf3a043ad58"
      },
      "source": [
        "X_B, Er_B = MetodoBroyden(F, B0, X0)"
      ],
      "execution_count": 9,
      "outputs": [
        {
          "output_type": "stream",
          "name": "stdout",
          "text": [
            "Iteração (1): ||s||_inf = 2.1250000\n",
            "Iteração (2): ||s||_inf = 14.5274769\n",
            "Iteração (3): ||s||_inf = 14.5353315\n",
            "Iteração (4): ||s||_inf = 0.0470629\n",
            "Iteração (5): ||s||_inf = 0.1563210\n",
            "Iteração (6): ||s||_inf = 0.0067196\n",
            "Iteração (7): ||s||_inf = 0.2836295\n",
            "Iteração (8): ||s||_inf = 40.8206733\n",
            "Iteração (9): ||s||_inf = 40.8180370\n",
            "Iteração (10): ||s||_inf = 0.0065608\n",
            "Iteração (11): ||s||_inf = 0.1425390\n",
            "Iteração (12): ||s||_inf = 0.0572338\n",
            "Iteração (13): ||s||_inf = 0.0298264\n",
            "Iteração (14): ||s||_inf = 0.0380736\n",
            "Iteração (15): ||s||_inf = 0.0121471\n",
            "Iteração (16): ||s||_inf = 0.0434262\n",
            "Iteração (17): ||s||_inf = 0.0927517\n",
            "Iteração (18): ||s||_inf = 0.0470122\n",
            "Iteração (19): ||s||_inf = 0.0240503\n",
            "Iteração (20): ||s||_inf = 0.0130956\n",
            "Iteração (21): ||s||_inf = 0.0003801\n",
            "Iteração (22): ||s||_inf = 0.0003231\n",
            "Iteração (23): ||s||_inf = 0.0056186\n",
            "Iteração (24): ||s||_inf = 0.0006281\n",
            "Iteração (25): ||s||_inf = 0.0021838\n",
            "Iteração (26): ||s||_inf = 0.0016575\n",
            "Iteração (27): ||s||_inf = 0.0000774\n",
            "Iteração (28): ||s||_inf = 0.0000106\n",
            "Iteração (29): ||s||_inf = 0.0000332\n",
            "Iteração (30): ||s||_inf = 0.0000076\n",
            "Iteração (31): ||s||_inf = 0.0000186\n",
            "Iteração (32): ||s||_inf = 0.0150716\n",
            "Iteração (33): ||s||_inf = 0.0153407\n",
            "Iteração (34): ||s||_inf = 0.0008497\n",
            "Iteração (35): ||s||_inf = 0.0015119\n",
            "Iteração (36): ||s||_inf = 0.0007347\n",
            "Iteração (37): ||s||_inf = 0.0042993\n",
            "Iteração (38): ||s||_inf = 0.0083137\n",
            "Iteração (39): ||s||_inf = 0.0155201\n",
            "Iteração (40): ||s||_inf = 0.0258014\n",
            "Iteração (41): ||s||_inf = 0.0442278\n",
            "Iteração (42): ||s||_inf = 0.0677193\n",
            "Iteração (43): ||s||_inf = 0.1373639\n",
            "Iteração (44): ||s||_inf = 0.1659057\n",
            "Iteração (45): ||s||_inf = 0.1694592\n",
            "Iteração (46): ||s||_inf = 0.1841247\n",
            "Iteração (47): ||s||_inf = 0.0095064\n",
            "Iteração (48): ||s||_inf = 0.0199359\n",
            "Iteração (49): ||s||_inf = 0.0083996\n",
            "Iteração (50): ||s||_inf = 0.0051197\n",
            "Iteração (51): ||s||_inf = 0.0013874\n",
            "Iteração (52): ||s||_inf = 0.0003131\n",
            "Iteração (53): ||s||_inf = 0.0008010\n",
            "Iteração (54): ||s||_inf = 0.0700175\n",
            "Iteração (55): ||s||_inf = 0.0696726\n",
            "Iteração (56): ||s||_inf = 0.0006758\n",
            "Iteração (57): ||s||_inf = 0.0021235\n",
            "Iteração (58): ||s||_inf = 0.0009421\n",
            "Iteração (59): ||s||_inf = 0.0193233\n",
            "Iteração (60): ||s||_inf = 0.0181781\n",
            "Iteração (61): ||s||_inf = 0.0020414\n",
            "Iteração (62): ||s||_inf = 0.0123877\n",
            "Iteração (63): ||s||_inf = 0.0076939\n",
            "Iteração (64): ||s||_inf = 0.0033478\n",
            "Iteração (65): ||s||_inf = 0.0129002\n",
            "Iteração (66): ||s||_inf = 0.0092628\n",
            "Iteração (67): ||s||_inf = 0.0036386\n",
            "Iteração (68): ||s||_inf = 0.1867614\n",
            "Iteração (69): ||s||_inf = 0.1862873\n",
            "Iteração (70): ||s||_inf = 0.0008635\n",
            "Iteração (71): ||s||_inf = 0.0028349\n",
            "Iteração (72): ||s||_inf = 0.0012180\n",
            "Iteração (73): ||s||_inf = 0.0110630\n",
            "Iteração (74): ||s||_inf = 0.0061644\n",
            "Iteração (75): ||s||_inf = 0.0029030\n",
            "Iteração (76): ||s||_inf = 0.0036278\n",
            "Iteração (77): ||s||_inf = 0.0004260\n",
            "Iteração (78): ||s||_inf = 0.0003307\n",
            "Iteração (79): ||s||_inf = 0.0020003\n",
            "Iteração (80): ||s||_inf = 0.0003966\n",
            "Iteração (81): ||s||_inf = 0.0014961\n",
            "Iteração (82): ||s||_inf = 0.0021670\n",
            "Iteração (83): ||s||_inf = 0.0002334\n",
            "Iteração (84): ||s||_inf = 0.0001027\n",
            "Iteração (85): ||s||_inf = 0.0000241\n",
            "Iteração (86): ||s||_inf = 0.0000489\n",
            "Iteração (87): ||s||_inf = 0.0004280\n",
            "Iteração (88): ||s||_inf = 0.0018718\n",
            "Iteração (89): ||s||_inf = 0.0027008\n",
            "Iteração (90): ||s||_inf = 0.0210564\n",
            "Iteração (91): ||s||_inf = 0.0213134\n",
            "Iteração (92): ||s||_inf = 0.0005412\n",
            "Iteração (93): ||s||_inf = 0.0011247\n",
            "Iteração (94): ||s||_inf = 0.0002693\n",
            "Iteração (95): ||s||_inf = 0.0074835\n",
            "Iteração (96): ||s||_inf = 0.0080900\n",
            "Iteração (97): ||s||_inf = 0.0021265\n",
            "Iteração (98): ||s||_inf = 0.0031827\n",
            "Iteração (99): ||s||_inf = 0.0011702\n",
            "Iteração (100): ||s||_inf = 0.0056838\n",
            "Iteração (101): ||s||_inf = 0.0087259\n",
            "Iteração (102): ||s||_inf = 0.0498315\n",
            "Iteração (103): ||s||_inf = 0.0507225\n",
            "Iteração (104): ||s||_inf = 0.0014981\n",
            "Iteração (105): ||s||_inf = 0.0037340\n",
            "Iteração (106): ||s||_inf = 0.0007101\n",
            "Iteração (107): ||s||_inf = 0.0013833\n",
            "Iteração (108): ||s||_inf = 0.0112119\n",
            "Iteração (109): ||s||_inf = 0.0125767\n",
            "Iteração (110): ||s||_inf = 0.0045700\n",
            "Iteração (111): ||s||_inf = 0.0065684\n",
            "Iteração (112): ||s||_inf = 0.0023099\n",
            "Iteração (113): ||s||_inf = 0.0091336\n",
            "Iteração (114): ||s||_inf = 0.0169857\n",
            "Iteração (115): ||s||_inf = 0.0315453\n",
            "Iteração (116): ||s||_inf = 0.0477517\n",
            "Iteração (117): ||s||_inf = 0.1076476\n",
            "Iteração (118): ||s||_inf = 0.1233039\n",
            "Iteração (119): ||s||_inf = 0.0561640\n",
            "Iteração (120): ||s||_inf = 0.0700321\n",
            "Iteração (121): ||s||_inf = 0.0077179\n",
            "Iteração (122): ||s||_inf = 0.0137802\n",
            "Iteração (123): ||s||_inf = 0.0164733\n",
            "Iteração (124): ||s||_inf = 0.0452038\n",
            "Iteração (125): ||s||_inf = 0.0759804\n",
            "Iteração (126): ||s||_inf = 0.1778607\n",
            "Iteração (127): ||s||_inf = 0.2054592\n",
            "Iteração (128): ||s||_inf = 0.0957461\n",
            "Iteração (129): ||s||_inf = 0.1184516\n",
            "Iteração (130): ||s||_inf = 0.0128964\n",
            "Iteração (131): ||s||_inf = 0.0220672\n",
            "Iteração (132): ||s||_inf = 0.0186599\n",
            "Iteração (133): ||s||_inf = 30.2795140\n",
            "Iteração (134): ||s||_inf = 30.2796144\n",
            "Iteração (135): ||s||_inf = 0.0001620\n",
            "Iteração (136): ||s||_inf = 0.0027256\n",
            "Iteração (137): ||s||_inf = 0.0005102\n",
            "Iteração (138): ||s||_inf = 0.0016824\n",
            "Iteração (139): ||s||_inf = 0.0001292\n",
            "Iteração (140): ||s||_inf = 0.0000179\n",
            "Iteração (141): ||s||_inf = 0.0000024\n",
            "Iteração (142): ||s||_inf = 0.0000010\n"
          ]
        }
      ]
    },
    {
      "cell_type": "code",
      "metadata": {
        "colab": {
          "base_uri": "https://localhost:8080/"
        },
        "id": "yWTMjHx7VkHK",
        "outputId": "69e59de7-c611-4284-c5f1-119450014e65"
      },
      "source": [
        "X_B[-1], F(X_B[-1])"
      ],
      "execution_count": 10,
      "outputs": [
        {
          "output_type": "execute_result",
          "data": {
            "text/plain": [
              "(array([ 0.87213538,  0.6634357 , -1.34133857]),\n",
              " array([-4.06561780e-01, -4.37931373e-05, -7.19884004e-05]))"
            ]
          },
          "metadata": {},
          "execution_count": 10
        }
      ]
    },
    {
      "cell_type": "markdown",
      "metadata": {
        "id": "wTFKCSU_aVhZ"
      },
      "source": [
        "O método obteve uma solução válida, embora menos precisa do que a obtida pelo Método de Newton. Para isso, efetuou 142 iterações, o que é um número muito superior às cinco iterações do outro método."
      ]
    },
    {
      "cell_type": "code",
      "metadata": {
        "colab": {
          "base_uri": "https://localhost:8080/",
          "height": 309
        },
        "id": "3_6gT8H9UpDn",
        "outputId": "01b6481b-9d70-4d61-a5cf-1c8d779b8a63"
      },
      "source": [
        "plt.semilogy(Er_N, label=\"Newton\")\n",
        "plt.semilogy(Er_B, label=\"Broyden\")\n",
        "plt.legend(loc=\"upper center\")\n",
        "\n",
        "plt.title(\"Comparação entre Newton e Broyden\", fontdict={\"size\":20})\n",
        "plt.xlabel(\"Iteração $k$\", fontdict={\"size\":15})\n",
        "plt.ylabel(\"Erro $||s||_\\infty$\", fontdict={\"size\":15})\n",
        "plt.show()"
      ],
      "execution_count": 11,
      "outputs": [
        {
          "output_type": "display_data",
          "data": {
            "image/png": "[encoded data removed]",
            "text/plain": [
              "<Figure size 432x288 with 1 Axes>"
            ]
          },
          "metadata": {
            "needs_background": "light"
          }
        }
      ]
    },
    {
      "cell_type": "markdown",
      "metadata": {
        "id": "FvCmhzvBZPKH"
      },
      "source": [
        "### Aspectos Positivos e Negativos\n",
        "\n",
        "Sabemos que o Método de Broyden realiza menos operações por iteração do que o Método de Newton, o que é um aspecto positivo.\n",
        "\n",
        "Contudo, ele não garante a convergência quadrática como o Método de Newton, o que é uma característica negativa. No caso particular, sequer houve convergência linear. No gráfico comparativo entre os métodos, nota-se que houve certas iterações, mesmo longe do início, em que o erro aumentou. Isso resultou em um número de iterações $28.4$ ($=142/5$) vezes maior."
      ]
    },
    {
      "cell_type": "markdown",
      "metadata": {
        "id": "QMc6H7uWbXdQ"
      },
      "source": [
        "# Questão 2\n",
        "\n",
        "Considere o problema de valor inicial (PVI):\n",
        "\n",
        "$$\n",
        "\\begin{cases}\n",
        "y' = −2ty^2 \\\\\n",
        "y(0) = 1.\n",
        "\\end{cases}\n",
        "$$\n",
        "\n",
        "Estime o valor de $y(0.5)$ usando os métodos de Euler e da série de Taylor de ordem 2 com passo $h = 0.25$."
      ]
    },
    {
      "cell_type": "markdown",
      "metadata": {
        "id": "L84ip0vefd6_"
      },
      "source": [
        "## Calculando derivadas parciais de $f(t, y)$\n",
        "\n",
        "$y' = f(t, y) = - 2 t y^2$\n",
        "\n",
        "$f_t(t, y) = \\frac{d}{dt} [- 2 t y^2] = - 2 y^2 \\frac{d}{dt}[t] = - 2 y^2$\n",
        "\n",
        "$f_y(t, y) = \\frac{d}{dy} [- 2 t y^2] = - 2 t \\frac{d}{dy}[y^2] = - 2 t \\times 2 y = - 4 t y$"
      ]
    },
    {
      "cell_type": "code",
      "metadata": {
        "id": "UVkg_c77ci_m"
      },
      "source": [
        "f  = lambda t, y: -2 * t * y**2\n",
        "ft = lambda t, y: -2 * y**2\n",
        "fy = lambda t, y: -4 * t * y"
      ],
      "execution_count": 12,
      "outputs": []
    },
    {
      "cell_type": "markdown",
      "metadata": {
        "id": "SpGlijSlfZnG"
      },
      "source": [
        "## Método de Euler\n",
        "\n",
        "Abaixo seguem a função e a invocação do Método de Euler.\n",
        "\n",
        "De acordo com o PVI, $x_0 = 0$, $y_0 = 1$, $x_f = 0.5$ e $h = 0.25$."
      ]
    },
    {
      "cell_type": "code",
      "metadata": {
        "id": "h2s1rNkLcr2w"
      },
      "source": [
        "def MetodoEuler(f,x0,xf,y0,h):\n",
        "    k = 0\n",
        "    x = [x0]\n",
        "    y = [y0]\n",
        "\n",
        "    while (x[-1] < xf):\n",
        "        x.append(x[k] + h)\n",
        "        y.append(y[k] + h*f(x[k],y[k]))\n",
        "        k = k+1\n",
        "        print(f\"Iteração ({k}): ({x[k]}, {y[k]})\")\n",
        "    return x,y"
      ],
      "execution_count": 13,
      "outputs": []
    },
    {
      "cell_type": "code",
      "metadata": {
        "id": "-OhIeUJJhNBH"
      },
      "source": [
        "x0 = 0\n",
        "y0 = 1\n",
        "xf = 0.5\n",
        "\n",
        "h  = 0.25"
      ],
      "execution_count": 14,
      "outputs": []
    },
    {
      "cell_type": "code",
      "metadata": {
        "colab": {
          "base_uri": "https://localhost:8080/"
        },
        "id": "1a3B5PDkg1fj",
        "outputId": "25e9888c-eaac-4877-d9b2-9bd0ca4eb64e"
      },
      "source": [
        "tE, yE = MetodoEuler(f, x0, xf, y0, h)"
      ],
      "execution_count": 15,
      "outputs": [
        {
          "output_type": "stream",
          "name": "stdout",
          "text": [
            "Iteração (1): (0.25, 1.0)\n",
            "Iteração (2): (0.5, 0.875)\n"
          ]
        }
      ]
    },
    {
      "cell_type": "markdown",
      "metadata": {
        "id": "M2aJSyQWjLiC"
      },
      "source": [
        "## Método de Taylor de ordem 2"
      ]
    },
    {
      "cell_type": "code",
      "metadata": {
        "id": "zPzY54aCjQt6"
      },
      "source": [
        "def MetodoTaylor2(f,fx,fy,x0,xf,y0,h):\n",
        "    k = 0\n",
        "    x = [x0]\n",
        "    y = [y0]\n",
        "\n",
        "    while x[-1]<xf:\n",
        "        x.append(x[k]+h)\n",
        "        y.append(y[k] + h*f(x[k],y[k]) + (h**2/2)*(fx(x[k],y[k]) + fy(x[k],y[k])*f(x[k],y[k])))\n",
        "        k = k+1\n",
        "        print(f\"Iteração ({k}): ({x[k]}, {y[k]})\")\n",
        "\n",
        "    return x,y"
      ],
      "execution_count": 16,
      "outputs": []
    },
    {
      "cell_type": "code",
      "metadata": {
        "colab": {
          "base_uri": "https://localhost:8080/"
        },
        "id": "LTCscmCkjkg_",
        "outputId": "e24e81a9-d6b6-4a35-adf0-59fa85046f99"
      },
      "source": [
        "tT, yT = MetodoTaylor2(f, ft, fy, x0, xf, y0, h)"
      ],
      "execution_count": 17,
      "outputs": [
        {
          "output_type": "stream",
          "name": "stdout",
          "text": [
            "Iteração (1): (0.25, 0.9375)\n",
            "Iteração (2): (0.5, 0.7855796813964844)\n"
          ]
        }
      ]
    },
    {
      "cell_type": "markdown",
      "metadata": {
        "id": "ndVmMkArj76w"
      },
      "source": [
        "## Resolvendo o TVI analiticamente\n",
        "\n",
        "De $y' = - 2 t y^2$, $-\\frac{dy}{y^2} = 2 t dt$.\n",
        "\n",
        "Assim, $\\frac{1}{y} = t^2 + C \\iff y(t) = \\frac{1}{t^2 + C}$.\n",
        "\n",
        "Como $y(0) = 1$, $1 = \\frac{1}{C} \\iff C = 1$.\n",
        "\n",
        "Logo, $y(t) = \\frac{1}{t^2 + 1}$.\n",
        "\n",
        "Portanto, $y(0.5) = \\frac{1}{0.5^2 + 1} = \\frac{1}{1.25}= 0.8$ "
      ]
    },
    {
      "cell_type": "markdown",
      "metadata": {
        "id": "KCnnHXmZlAsp"
      },
      "source": [
        "## Comparando Métodos\n",
        "\n",
        "Conforme esperado, o Método de Taylor de ordem $2$ obteve uma aproximação melhor, uma vez que o valor $0.79$ obtido se aproxima mais da resposta correta $0.8$ do que o número encontrado pelo Método de Euler, $0.875$"
      ]
    }
  ]
}