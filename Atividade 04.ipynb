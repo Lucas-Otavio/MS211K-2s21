{
  "nbformat": 4,
  "nbformat_minor": 0,
  "metadata": {
    "colab": {
      "name": "RA240106 - MS211 - Atividade 4.ipynb",
      "provenance": [],
      "toc_visible": true
    },
    "kernelspec": {
      "name": "python3",
      "display_name": "Python 3"
    },
    "language_info": {
      "name": "python"
    }
  },
  "cells": [
    {
      "cell_type": "code",
      "metadata": {
        "id": "6-Sf27TLsOV_"
      },
      "source": [
        "import matplotlib.pyplot as plt\n",
        "import numpy as np\n",
        "import functools\n",
        "import time"
      ],
      "execution_count": 1,
      "outputs": []
    },
    {
      "cell_type": "markdown",
      "metadata": {
        "id": "w_sUq6i7sRf3"
      },
      "source": [
        "# Questão 1"
      ]
    },
    {
      "cell_type": "markdown",
      "metadata": {
        "id": "a7hlCSnUsrVb"
      },
      "source": [
        "Resolva o sistema linear $Ax = b$ em que\n",
        "\n",
        "\n",
        "$\n",
        "A =\n",
        "\\begin{bmatrix}\n",
        "9. & −4. & 1. & 0. & 0. & 0. & 0. \\\\\n",
        "−4. & 6. & −4. & 1. & 0. & 0. & 0. \\\\\n",
        "1. & −4. & 6. & −4. & 1. & 0. & 0. \\\\\n",
        "0. & 1. & −4. & 6. & −4. & 1. & 0. \\\\\n",
        "\\vdots & \\ddots & \\ddots & \\ddots & \\ddots & \\ddots & \\vdots \\\\\n",
        "0. & 0. & 1. & −4. & 6. & −4. & 1. \\\\\n",
        "0. & 0. & 0. & 1. & −4. & 5. & −2. \\\\\n",
        "0. & 0. & 0. & 0. & 1. & −2. & 1.\n",
        "\\end{bmatrix} \\in R^{\\; 200 \\times 200}\n",
        "$\n",
        "\n",
        "\n",
        "\n",
        "e \n",
        "\n",
        "$\n",
        "b =\n",
        "\\begin{bmatrix}\n",
        "1 \\\\\n",
        "1\\\\\n",
        "1\\\\\n",
        "1\\\\\n",
        "\\vdots\\\\\n",
        "1\\\\\n",
        "1\\\\\n",
        "1\\\\\n",
        "\\end{bmatrix} \\in\n",
        "R^{\\; 200}\n",
        "$\n",
        "\n",
        "usando o método da Eliminação de Gauss (com pivoteamento parcial) e os métodos iterativos de Gauss-Jacobi e Gauss-Seidel, se possível. Compare o desempenho dos métodos para a resolução do sistema linear em termos do tempo de execução."
      ]
    },
    {
      "cell_type": "code",
      "metadata": {
        "id": "86297TEVBQ4p"
      },
      "source": [
        "def timer(f):\n",
        "    @functools.wraps(f)\n",
        "    def wrapper_timer(*args, **kwargs):\n",
        "        tempo_inicio = time.perf_counter()\n",
        "        retorno = f(*args, **kwargs)\n",
        "        tempo_fim = time.perf_counter()\n",
        "        tempo_exec = tempo_fim - tempo_inicio\n",
        "        print(f\"Tempo de Execução: {tempo_exec:0.4f} segundos\")\n",
        "        return retorno\n",
        "    return wrapper_timer"
      ],
      "execution_count": 2,
      "outputs": []
    },
    {
      "cell_type": "code",
      "metadata": {
        "id": "EZysQcQove_r"
      },
      "source": [
        "def FatoracaoLUPivot(A):\n",
        "    U = np.copy(A)\n",
        "    n = A.shape[0]\n",
        "    L = np.zeros_like(A)\n",
        "    P = np.eye(n)\n",
        "\n",
        "    m = 0\n",
        "\n",
        "    for j in range(n):\n",
        "\n",
        "        #Pivoteamento Parcial\n",
        "\n",
        "        k = np.argmax(np.abs(U[j:,j])) + j\n",
        "        U[j], U[k] = np.copy(U[k]), np.copy(U[j])\n",
        "        P[j], P[k] = np.copy(P[k]), np.copy(P[j])\n",
        "\n",
        "        L[j], L[k] = np.copy(L[k]), np.copy(L[j])\n",
        "\n",
        "        m += 1\n",
        "\n",
        "        for i in range(j + 1, n):\n",
        "            L[i][j] = U[i][j]/U[j][j]\n",
        "            for k in range(j + 1, n):\n",
        "                U[i][k] -= L[i][j] * U[j][k]\n",
        "            U[i][j] = 0\n",
        "            m += 1\n",
        "    L += np.eye(n)\n",
        "    return L, U, P"
      ],
      "execution_count": 3,
      "outputs": []
    },
    {
      "cell_type": "code",
      "metadata": {
        "id": "GPD6Ea4-wQVT"
      },
      "source": [
        "def SubstituicaoRegressiva(U, c): # U triangular superior\n",
        "    x = np.copy(c)\n",
        "    n = U.shape[0]\n",
        "\n",
        "    for i in range(n-1, -1, -1):\n",
        "        for j in range(i + 1, n):\n",
        "            x[i] -= (U[i,j] * x[j])\n",
        "        x[i] /= U[i,i]\n",
        "    return x"
      ],
      "execution_count": 4,
      "outputs": []
    },
    {
      "cell_type": "code",
      "metadata": {
        "id": "FOJH6njGwQpm"
      },
      "source": [
        "def SubstituicaoDireta(U, c): #U triangular inferior\n",
        "    x = np.copy(c)\n",
        "    n = U.shape[0]\n",
        "\n",
        "    for i in range(n):\n",
        "        for j in range(i):\n",
        "            x[i] -= (U[i,j] * x[j])\n",
        "        x[i] /= U[i,i]\n",
        "    return x"
      ],
      "execution_count": 5,
      "outputs": []
    },
    {
      "cell_type": "code",
      "metadata": {
        "id": "2OoLUKzkvjps"
      },
      "source": [
        "@timer\n",
        "def EliminacaoGaussLUPivot(A, b):\n",
        "    L, U, P = FatoracaoLUPivot(A)\n",
        "    # Resolver Ly = b e Ux = y\n",
        "    y = SubstituicaoDireta(L, b)\n",
        "    x = SubstituicaoRegressiva(U, y)\n",
        "\n",
        "    return P, x"
      ],
      "execution_count": 6,
      "outputs": []
    },
    {
      "cell_type": "code",
      "metadata": {
        "id": "s578BkXmwvtM"
      },
      "source": [
        "def buildA():\n",
        "    A = np.zeros((200, 200))\n",
        "    A[0,0:3] = np.array([9, -4, 1])\n",
        "    A[1,0:4] = np.array([-4, 6, -4, 1])\n",
        "    A[198,196:200] = np.array([1, -4, 5, -2])\n",
        "    A[199,197:200] = np.array([1, -2, 1])\n",
        "\n",
        "    for i in range(2, 198):\n",
        "        A[i, i-2:i+3] = np.array([1, -4, 6, -4, 1])\n",
        "    \n",
        "    return A"
      ],
      "execution_count": 7,
      "outputs": []
    },
    {
      "cell_type": "code",
      "metadata": {
        "colab": {
          "base_uri": "https://localhost:8080/"
        },
        "id": "6nLZhOAVx_wY",
        "outputId": "d564b70a-5a2e-4130-b395-4c6096429715"
      },
      "source": [
        "A = buildA()\n",
        "A"
      ],
      "execution_count": 8,
      "outputs": [
        {
          "output_type": "execute_result",
          "data": {
            "text/plain": [
              "array([[ 9., -4.,  1., ...,  0.,  0.,  0.],\n",
              "       [-4.,  6., -4., ...,  0.,  0.,  0.],\n",
              "       [ 1., -4.,  6., ...,  0.,  0.,  0.],\n",
              "       ...,\n",
              "       [ 0.,  0.,  0., ...,  6., -4.,  1.],\n",
              "       [ 0.,  0.,  0., ..., -4.,  5., -2.],\n",
              "       [ 0.,  0.,  0., ...,  1., -2.,  1.]])"
            ]
          },
          "metadata": {},
          "execution_count": 8
        }
      ]
    },
    {
      "cell_type": "code",
      "metadata": {
        "colab": {
          "base_uri": "https://localhost:8080/"
        },
        "id": "Jr4VJUdUyy4T",
        "outputId": "d74f31a5-7b8c-4d28-c666-f574fa08e826"
      },
      "source": [
        "b = np.ones((200,1))\n",
        "b"
      ],
      "execution_count": 9,
      "outputs": [
        {
          "output_type": "execute_result",
          "data": {
            "text/plain": [
              "array([[1.],\n",
              "       [1.],\n",
              "       [1.],\n",
              "       [1.],\n",
              "       [1.],\n",
              "       [1.],\n",
              "       [1.],\n",
              "       [1.],\n",
              "       [1.],\n",
              "       [1.],\n",
              "       [1.],\n",
              "       [1.],\n",
              "       [1.],\n",
              "       [1.],\n",
              "       [1.],\n",
              "       [1.],\n",
              "       [1.],\n",
              "       [1.],\n",
              "       [1.],\n",
              "       [1.],\n",
              "       [1.],\n",
              "       [1.],\n",
              "       [1.],\n",
              "       [1.],\n",
              "       [1.],\n",
              "       [1.],\n",
              "       [1.],\n",
              "       [1.],\n",
              "       [1.],\n",
              "       [1.],\n",
              "       [1.],\n",
              "       [1.],\n",
              "       [1.],\n",
              "       [1.],\n",
              "       [1.],\n",
              "       [1.],\n",
              "       [1.],\n",
              "       [1.],\n",
              "       [1.],\n",
              "       [1.],\n",
              "       [1.],\n",
              "       [1.],\n",
              "       [1.],\n",
              "       [1.],\n",
              "       [1.],\n",
              "       [1.],\n",
              "       [1.],\n",
              "       [1.],\n",
              "       [1.],\n",
              "       [1.],\n",
              "       [1.],\n",
              "       [1.],\n",
              "       [1.],\n",
              "       [1.],\n",
              "       [1.],\n",
              "       [1.],\n",
              "       [1.],\n",
              "       [1.],\n",
              "       [1.],\n",
              "       [1.],\n",
              "       [1.],\n",
              "       [1.],\n",
              "       [1.],\n",
              "       [1.],\n",
              "       [1.],\n",
              "       [1.],\n",
              "       [1.],\n",
              "       [1.],\n",
              "       [1.],\n",
              "       [1.],\n",
              "       [1.],\n",
              "       [1.],\n",
              "       [1.],\n",
              "       [1.],\n",
              "       [1.],\n",
              "       [1.],\n",
              "       [1.],\n",
              "       [1.],\n",
              "       [1.],\n",
              "       [1.],\n",
              "       [1.],\n",
              "       [1.],\n",
              "       [1.],\n",
              "       [1.],\n",
              "       [1.],\n",
              "       [1.],\n",
              "       [1.],\n",
              "       [1.],\n",
              "       [1.],\n",
              "       [1.],\n",
              "       [1.],\n",
              "       [1.],\n",
              "       [1.],\n",
              "       [1.],\n",
              "       [1.],\n",
              "       [1.],\n",
              "       [1.],\n",
              "       [1.],\n",
              "       [1.],\n",
              "       [1.],\n",
              "       [1.],\n",
              "       [1.],\n",
              "       [1.],\n",
              "       [1.],\n",
              "       [1.],\n",
              "       [1.],\n",
              "       [1.],\n",
              "       [1.],\n",
              "       [1.],\n",
              "       [1.],\n",
              "       [1.],\n",
              "       [1.],\n",
              "       [1.],\n",
              "       [1.],\n",
              "       [1.],\n",
              "       [1.],\n",
              "       [1.],\n",
              "       [1.],\n",
              "       [1.],\n",
              "       [1.],\n",
              "       [1.],\n",
              "       [1.],\n",
              "       [1.],\n",
              "       [1.],\n",
              "       [1.],\n",
              "       [1.],\n",
              "       [1.],\n",
              "       [1.],\n",
              "       [1.],\n",
              "       [1.],\n",
              "       [1.],\n",
              "       [1.],\n",
              "       [1.],\n",
              "       [1.],\n",
              "       [1.],\n",
              "       [1.],\n",
              "       [1.],\n",
              "       [1.],\n",
              "       [1.],\n",
              "       [1.],\n",
              "       [1.],\n",
              "       [1.],\n",
              "       [1.],\n",
              "       [1.],\n",
              "       [1.],\n",
              "       [1.],\n",
              "       [1.],\n",
              "       [1.],\n",
              "       [1.],\n",
              "       [1.],\n",
              "       [1.],\n",
              "       [1.],\n",
              "       [1.],\n",
              "       [1.],\n",
              "       [1.],\n",
              "       [1.],\n",
              "       [1.],\n",
              "       [1.],\n",
              "       [1.],\n",
              "       [1.],\n",
              "       [1.],\n",
              "       [1.],\n",
              "       [1.],\n",
              "       [1.],\n",
              "       [1.],\n",
              "       [1.],\n",
              "       [1.],\n",
              "       [1.],\n",
              "       [1.],\n",
              "       [1.],\n",
              "       [1.],\n",
              "       [1.],\n",
              "       [1.],\n",
              "       [1.],\n",
              "       [1.],\n",
              "       [1.],\n",
              "       [1.],\n",
              "       [1.],\n",
              "       [1.],\n",
              "       [1.],\n",
              "       [1.],\n",
              "       [1.],\n",
              "       [1.],\n",
              "       [1.],\n",
              "       [1.],\n",
              "       [1.],\n",
              "       [1.],\n",
              "       [1.],\n",
              "       [1.],\n",
              "       [1.],\n",
              "       [1.],\n",
              "       [1.],\n",
              "       [1.],\n",
              "       [1.],\n",
              "       [1.],\n",
              "       [1.],\n",
              "       [1.],\n",
              "       [1.],\n",
              "       [1.],\n",
              "       [1.]])"
            ]
          },
          "metadata": {},
          "execution_count": 9
        }
      ]
    },
    {
      "cell_type": "markdown",
      "metadata": {
        "id": "ZFUkOjowysl1"
      },
      "source": [
        "## Solução por Eliminação de Gauss com Pivoteamento Parcial"
      ]
    },
    {
      "cell_type": "code",
      "metadata": {
        "colab": {
          "base_uri": "https://localhost:8080/"
        },
        "id": "vVc-5UBS0z8Y",
        "outputId": "f06976b2-a10e-42ab-db78-f686f9cde986"
      },
      "source": [
        "P, x = EliminacaoGaussLUPivot(A, b)"
      ],
      "execution_count": 10,
      "outputs": [
        {
          "output_type": "stream",
          "name": "stdout",
          "text": [
            "Tempo de Execução: 4.0179 segundos\n"
          ]
        }
      ]
    },
    {
      "cell_type": "code",
      "metadata": {
        "colab": {
          "base_uri": "https://localhost:8080/"
        },
        "id": "oiIqxyuO609Y",
        "outputId": "d866d5ac-2117-4b5b-dbd5-90433430136e"
      },
      "source": [
        "x"
      ],
      "execution_count": 11,
      "outputs": [
        {
          "output_type": "execute_result",
          "data": {
            "text/plain": [
              "array([[5.02500000e+03],\n",
              "       [2.99500000e+04],\n",
              "       [7.45760000e+04],\n",
              "       [1.38705000e+05],\n",
              "       [2.22140000e+05],\n",
              "       [3.24685000e+05],\n",
              "       [4.46145000e+05],\n",
              "       [5.86326000e+05],\n",
              "       [7.45035000e+05],\n",
              "       [9.22080000e+05],\n",
              "       [1.11727000e+06],\n",
              "       [1.33041500e+06],\n",
              "       [1.56132600e+06],\n",
              "       [1.80981500e+06],\n",
              "       [2.07569500e+06],\n",
              "       [2.35878000e+06],\n",
              "       [2.65888500e+06],\n",
              "       [2.97582600e+06],\n",
              "       [3.30942000e+06],\n",
              "       [3.65948500e+06],\n",
              "       [4.02584000e+06],\n",
              "       [4.40830500e+06],\n",
              "       [4.80670100e+06],\n",
              "       [5.22085000e+06],\n",
              "       [5.65057500e+06],\n",
              "       [6.09570000e+06],\n",
              "       [6.55605000e+06],\n",
              "       [7.03145100e+06],\n",
              "       [7.52173000e+06],\n",
              "       [8.02671500e+06],\n",
              "       [8.54623500e+06],\n",
              "       [9.08012000e+06],\n",
              "       [9.62820100e+06],\n",
              "       [1.01903100e+07],\n",
              "       [1.07662800e+07],\n",
              "       [1.13559450e+07],\n",
              "       [1.19591400e+07],\n",
              "       [1.25757010e+07],\n",
              "       [1.32054650e+07],\n",
              "       [1.38482700e+07],\n",
              "       [1.45039550e+07],\n",
              "       [1.51723600e+07],\n",
              "       [1.58533260e+07],\n",
              "       [1.65466950e+07],\n",
              "       [1.72523100e+07],\n",
              "       [1.79700150e+07],\n",
              "       [1.86996550e+07],\n",
              "       [1.94410760e+07],\n",
              "       [2.01941250e+07],\n",
              "       [2.09586500e+07],\n",
              "       [2.17345000e+07],\n",
              "       [2.25215250e+07],\n",
              "       [2.33195760e+07],\n",
              "       [2.41285050e+07],\n",
              "       [2.49481650e+07],\n",
              "       [2.57784100e+07],\n",
              "       [2.66190950e+07],\n",
              "       [2.74700760e+07],\n",
              "       [2.83312100e+07],\n",
              "       [2.92023550e+07],\n",
              "       [3.00833700e+07],\n",
              "       [3.09741150e+07],\n",
              "       [3.18744510e+07],\n",
              "       [3.27842400e+07],\n",
              "       [3.37033450e+07],\n",
              "       [3.46316300e+07],\n",
              "       [3.55689600e+07],\n",
              "       [3.65152010e+07],\n",
              "       [3.74702200e+07],\n",
              "       [3.84338850e+07],\n",
              "       [3.94060650e+07],\n",
              "       [4.03866300e+07],\n",
              "       [4.13754510e+07],\n",
              "       [4.23724000e+07],\n",
              "       [4.33773500e+07],\n",
              "       [4.43901750e+07],\n",
              "       [4.54107500e+07],\n",
              "       [4.64389510e+07],\n",
              "       [4.74746550e+07],\n",
              "       [4.85177400e+07],\n",
              "       [4.95680850e+07],\n",
              "       [5.06255700e+07],\n",
              "       [5.16900760e+07],\n",
              "       [5.27614850e+07],\n",
              "       [5.38396800e+07],\n",
              "       [5.49245450e+07],\n",
              "       [5.60159650e+07],\n",
              "       [5.71138260e+07],\n",
              "       [5.82180150e+07],\n",
              "       [5.93284200e+07],\n",
              "       [6.04449300e+07],\n",
              "       [6.15674350e+07],\n",
              "       [6.26958260e+07],\n",
              "       [6.38299950e+07],\n",
              "       [6.49698350e+07],\n",
              "       [6.61152400e+07],\n",
              "       [6.72661050e+07],\n",
              "       [6.84223260e+07],\n",
              "       [6.95838000e+07],\n",
              "       [7.07504250e+07],\n",
              "       [7.19221000e+07],\n",
              "       [7.30987250e+07],\n",
              "       [7.42802010e+07],\n",
              "       [7.54664300e+07],\n",
              "       [7.66573150e+07],\n",
              "       [7.78527600e+07],\n",
              "       [7.90526700e+07],\n",
              "       [8.02569510e+07],\n",
              "       [8.14655100e+07],\n",
              "       [8.26782550e+07],\n",
              "       [8.38950950e+07],\n",
              "       [8.51159400e+07],\n",
              "       [8.63407010e+07],\n",
              "       [8.75692900e+07],\n",
              "       [8.88016200e+07],\n",
              "       [9.00376050e+07],\n",
              "       [9.12771600e+07],\n",
              "       [9.25202010e+07],\n",
              "       [9.37666450e+07],\n",
              "       [9.50164101e+07],\n",
              "       [9.62694151e+07],\n",
              "       [9.75255801e+07],\n",
              "       [9.87848261e+07],\n",
              "       [1.00047075e+08],\n",
              "       [1.01312250e+08],\n",
              "       [1.02580275e+08],\n",
              "       [1.03851075e+08],\n",
              "       [1.05124576e+08],\n",
              "       [1.06400705e+08],\n",
              "       [1.07679390e+08],\n",
              "       [1.08960560e+08],\n",
              "       [1.10244145e+08],\n",
              "       [1.11530076e+08],\n",
              "       [1.12818285e+08],\n",
              "       [1.14108705e+08],\n",
              "       [1.15401270e+08],\n",
              "       [1.16695915e+08],\n",
              "       [1.17992576e+08],\n",
              "       [1.19291190e+08],\n",
              "       [1.20591695e+08],\n",
              "       [1.21894030e+08],\n",
              "       [1.23198135e+08],\n",
              "       [1.24503951e+08],\n",
              "       [1.25811420e+08],\n",
              "       [1.27120485e+08],\n",
              "       [1.28431090e+08],\n",
              "       [1.29743180e+08],\n",
              "       [1.31056701e+08],\n",
              "       [1.32371600e+08],\n",
              "       [1.33687825e+08],\n",
              "       [1.35005325e+08],\n",
              "       [1.36324050e+08],\n",
              "       [1.37643951e+08],\n",
              "       [1.38964980e+08],\n",
              "       [1.40287090e+08],\n",
              "       [1.41610235e+08],\n",
              "       [1.42934370e+08],\n",
              "       [1.44259451e+08],\n",
              "       [1.45585435e+08],\n",
              "       [1.46912280e+08],\n",
              "       [1.48239945e+08],\n",
              "       [1.49568390e+08],\n",
              "       [1.50897576e+08],\n",
              "       [1.52227465e+08],\n",
              "       [1.53558020e+08],\n",
              "       [1.54889205e+08],\n",
              "       [1.56220985e+08],\n",
              "       [1.57553326e+08],\n",
              "       [1.58886195e+08],\n",
              "       [1.60219560e+08],\n",
              "       [1.61553390e+08],\n",
              "       [1.62887655e+08],\n",
              "       [1.64222326e+08],\n",
              "       [1.65557375e+08],\n",
              "       [1.66892775e+08],\n",
              "       [1.68228500e+08],\n",
              "       [1.69564525e+08],\n",
              "       [1.70900826e+08],\n",
              "       [1.72237380e+08],\n",
              "       [1.73574165e+08],\n",
              "       [1.74911160e+08],\n",
              "       [1.76248345e+08],\n",
              "       [1.77585701e+08],\n",
              "       [1.78923210e+08],\n",
              "       [1.80260855e+08],\n",
              "       [1.81598620e+08],\n",
              "       [1.82936490e+08],\n",
              "       [1.84274451e+08],\n",
              "       [1.85612490e+08],\n",
              "       [1.86950595e+08],\n",
              "       [1.88288755e+08],\n",
              "       [1.89626960e+08],\n",
              "       [1.90965201e+08],\n",
              "       [1.92303470e+08],\n",
              "       [1.93641760e+08],\n",
              "       [1.94980065e+08],\n",
              "       [1.96318380e+08],\n",
              "       [1.97656701e+08],\n",
              "       [1.98995025e+08],\n",
              "       [2.00333350e+08]])"
            ]
          },
          "metadata": {},
          "execution_count": 11
        }
      ]
    },
    {
      "cell_type": "code",
      "metadata": {
        "colab": {
          "base_uri": "https://localhost:8080/"
        },
        "id": "zku1Hu031RlA",
        "outputId": "11ca42c8-6bdb-44f3-ca05-f36536d8db62"
      },
      "source": [
        "print(np.max(np.abs(P @ A @ x - b)))"
      ],
      "execution_count": 12,
      "outputs": [
        {
          "output_type": "stream",
          "name": "stdout",
          "text": [
            "2.384185791015625e-07\n"
          ]
        }
      ]
    },
    {
      "cell_type": "markdown",
      "metadata": {
        "id": "kFmNwC193zE3"
      },
      "source": [
        "## Método Gauss-Jacobi"
      ]
    },
    {
      "cell_type": "code",
      "metadata": {
        "id": "kkuuxBctyr5w"
      },
      "source": [
        "@timer\n",
        "def GaussJacobi(A, b):\n",
        "    n = A.shape[0]\n",
        "    x_history = list()\n",
        "    x_old = np.zeros(n)\n",
        "    x_new = np.zeros(n)\n",
        "    k_limite = 200\n",
        "    k = 0\n",
        "    tau = 1E-4\n",
        "    Dr = 1\n",
        "\n",
        "    while (k < k_limite and Dr > tau):\n",
        "        for i in range(n):\n",
        "            soma = 0\n",
        "            for j in range(n):\n",
        "                if (i == j):\n",
        "                    continue\n",
        "                soma += A[i,j]*x_old[j]\n",
        "            x_new[i] = (b[i] - soma) / A[i,i]\n",
        "        \n",
        "        k += 1\n",
        "        Dr = np.max(np.abs(x_new - x_old)) / np.max(np.abs(x_new))\n",
        "        x_history.append(x_old)\n",
        "        x_old = np.copy(x_new)\n",
        "        \n",
        "    return x_history, x_new"
      ],
      "execution_count": 13,
      "outputs": []
    },
    {
      "cell_type": "code",
      "metadata": {
        "colab": {
          "base_uri": "https://localhost:8080/"
        },
        "id": "OJcxOBMC7Jj2",
        "outputId": "60990824-173d-458f-b3fb-f1a155851159"
      },
      "source": [
        "history, x = GaussJacobi(A, b)"
      ],
      "execution_count": 14,
      "outputs": [
        {
          "output_type": "stream",
          "name": "stdout",
          "text": [
            "Tempo de Execução: 4.8295 segundos\n"
          ]
        }
      ]
    },
    {
      "cell_type": "code",
      "metadata": {
        "id": "53mKU36k8-oJ"
      },
      "source": [
        "erros = []\n",
        "for i in range(len(history)):\n",
        "    erro = np.max(np.abs(A @ history[i] - b))\n",
        "    if (erro != np.inf):\n",
        "        erros.append(erro)"
      ],
      "execution_count": 15,
      "outputs": []
    },
    {
      "cell_type": "code",
      "metadata": {
        "colab": {
          "base_uri": "https://localhost:8080/",
          "height": 283
        },
        "id": "QVGOug1N9kV8",
        "outputId": "24bd3cc4-6112-4742-a401-d3251feb1441"
      },
      "source": [
        "plt.semilogy(erros)"
      ],
      "execution_count": null,
      "outputs": [
        {
          "output_type": "execute_result",
          "data": {
            "text/plain": [
              "[<matplotlib.lines.Line2D at 0x7f190fe8b910>]"
            ]
          },
          "metadata": {},
          "execution_count": 98
        },
        {
          "output_type": "display_data",
          "data": {
            "image/png": "[encoded data removed]",
            "text/plain": [
              "<Figure size 432x288 with 1 Axes>"
            ]
          },
          "metadata": {
            "needs_background": "light"
          }
        }
      ]
    },
    {
      "cell_type": "markdown",
      "metadata": {
        "id": "GdFFrGRv8OzU"
      },
      "source": [
        "## Método Gauss-Seidel"
      ]
    },
    {
      "cell_type": "code",
      "metadata": {
        "id": "VeqQNcVy7Pg-"
      },
      "source": [
        "@timer\n",
        "def GaussSeidel(A, b, k_limite=200):\n",
        "    n = A.shape[0]\n",
        "    x_history = list()\n",
        "    x_old = np.zeros(n)\n",
        "    x_new = np.zeros(n)\n",
        "    k = 0\n",
        "    tau = 1E-4\n",
        "    Dr = 1\n",
        "\n",
        "    while (k < k_limite and Dr > tau):\n",
        "        for i in range(n):\n",
        "            soma = 0\n",
        "            for j in range(n):\n",
        "                if (i == j):\n",
        "                    continue\n",
        "                soma += A[i,j]*x_new[j]\n",
        "            x_new[i] = (b[i] - soma) / A[i,i]\n",
        "        \n",
        "        \n",
        "        Dr = np.max(np.abs(x_new - x_old)) / np.max(np.abs(x_new))\n",
        "        x_history.append(x_old)\n",
        "        x_old = np.copy(x_new)\n",
        "        k += 1\n",
        "\n",
        "    if (Dr > tau):\n",
        "        print(\"NÃO CONVERGIU!\")\n",
        "        \n",
        "    return x_history, x_new"
      ],
      "execution_count": 16,
      "outputs": []
    },
    {
      "cell_type": "code",
      "metadata": {
        "colab": {
          "base_uri": "https://localhost:8080/"
        },
        "id": "DaWJPhIO9WIN",
        "outputId": "49f085f8-bb3d-4549-a91e-5883397efbe0"
      },
      "source": [
        "history, x = GaussSeidel(A, b)"
      ],
      "execution_count": 17,
      "outputs": [
        {
          "output_type": "stream",
          "name": "stdout",
          "text": [
            "NÃO CONVERGIU!\n",
            "Tempo de Execução: 4.7215 segundos\n"
          ]
        }
      ]
    },
    {
      "cell_type": "code",
      "metadata": {
        "colab": {
          "base_uri": "https://localhost:8080/"
        },
        "id": "wahrFgXw-_hu",
        "outputId": "e6834668-fce5-4a4a-e3df-9045a4df92c9"
      },
      "source": [
        "print(np.max(np.abs(A @ x - b)))"
      ],
      "execution_count": 18,
      "outputs": [
        {
          "output_type": "stream",
          "name": "stdout",
          "text": [
            "1.4693583616174237\n"
          ]
        }
      ]
    },
    {
      "cell_type": "code",
      "metadata": {
        "id": "56ylcRkf0LOc"
      },
      "source": [
        "erros = []\n",
        "for i in range(len(history)):\n",
        "    erro = np.max(np.abs(A @ history[i] - b))\n",
        "    if (erro != np.inf):\n",
        "        erros.append(erro)"
      ],
      "execution_count": 19,
      "outputs": []
    },
    {
      "cell_type": "code",
      "metadata": {
        "colab": {
          "base_uri": "https://localhost:8080/",
          "height": 283
        },
        "id": "NnAmUXFL0UVk",
        "outputId": "fc98cfd0-e019-43ed-e267-194c573afc46"
      },
      "source": [
        "plt.semilogy(erros)"
      ],
      "execution_count": 20,
      "outputs": [
        {
          "output_type": "execute_result",
          "data": {
            "text/plain": [
              "[<matplotlib.lines.Line2D at 0x7fd4b41c4a50>]"
            ]
          },
          "metadata": {},
          "execution_count": 20
        },
        {
          "output_type": "display_data",
          "data": {
            "image/png": "[encoded data removed]",
            "text/plain": [
              "<Figure size 432x288 with 1 Axes>"
            ]
          },
          "metadata": {
            "needs_background": "light"
          }
        }
      ]
    },
    {
      "cell_type": "markdown",
      "metadata": {
        "id": "wmSWrMoTzJiT"
      },
      "source": [
        "## Análise dos Resultados"
      ]
    },
    {
      "cell_type": "markdown",
      "metadata": {
        "id": "qRO8I_vKyTOY"
      },
      "source": [
        "Além de reutilizar as funções criadas para a Eliminação de Gauss com Pivoteamento Parcial, escrevi rotinas para implementar os métodos de Gauss-Jacobi e Gauss-Seidel. \n",
        "\n",
        "Ainda, criei uma função decoradora `timer` para envolver as rotinas de cada método de resolução de sistemas lineares para contabilizar e imprimir o respectivo tempo de execução.\n",
        "\n",
        "Ao longo da análise, considerei o erro absoluto máximo como a componente de maior diferença, em módulo, entre $Ax$ e $b$.\n",
        "\n",
        "O método de Eliminação de Gauss demorou $4,0178$ segundos e obteve a resposta correta, com erro absoluto máximo de aproximadamente $2,4E-7$.\n",
        "\n",
        "O método de Gauss-Jacobi executou em $4,8295$ segundos e divergiu, com erro crescente a cada iteração.\n",
        "\n",
        "O método de Gauss-Seidel executou em $4,7215$ segundos e apresentou uma condição peculiar. O resultado não divergiu, mas converge lentamente $-$ de forma que $200$ iterações não foram suficientes para obter a resposta correta e o erro absoluto máximo da última iteração permaneceu próximo de $1,5$.\n",
        "\n",
        "Portanto, o método de melhor performance no caso analisado foi a Eliminação de Gauss com Pivoteamento Parcial, pois ela obteve a melhor resposta e executou em menos tempo."
      ]
    },
    {
      "cell_type": "markdown",
      "metadata": {
        "id": "xXYDQJGdsSMD"
      },
      "source": [
        "# Questão 2"
      ]
    },
    {
      "cell_type": "markdown",
      "metadata": {
        "id": "bjm2a7k8QHhy"
      },
      "source": [
        "Determine valores de $\\beta$ que garantem a convergência dos métodos de Gauss-Jacobi e Gauss-Seidel quando\n",
        "aplicados para resolução do sistema linear $Ax = b$ em que\n",
        "\n",
        "\n",
        "$A =\n",
        "\\begin{bmatrix}\n",
        "−10 & 2 \\\\\n",
        "\\beta & 5\n",
        "\\end{bmatrix}$\n",
        "e\n",
        "$b =\n",
        "\\begin{bmatrix}\n",
        "1 \\\\\n",
        "1\n",
        "\\end{bmatrix}$"
      ]
    },
    {
      "cell_type": "markdown",
      "metadata": {
        "id": "ll4-09dkQjI3"
      },
      "source": [
        "## Gauss-Jacobi\n",
        "\n",
        "#### $i=1$:\n",
        "\n",
        "$\\sum_{j \\ne i} |a_{ij}| = |a_{12}| = 2 < 10 = |a_{11}|$\n",
        "\n",
        "#### $i=2$:\n",
        "\n",
        "$\\sum_{j \\ne i} |a_{ij}| = |a_{21}|  = \\beta < 5 = |a_{22}|$\n",
        "\n",
        "Logo, a matriz é diagonalmente estritamente crescente para $\\beta < 5$ e o conjunto de matrizes que satisfazem essa condição garante a convergência do Método de Gauss-Jacobi."
      ]
    },
    {
      "cell_type": "markdown",
      "metadata": {
        "id": "4PN4v8jpRzys"
      },
      "source": [
        "## Gauss-Seidel\n",
        "\n",
        "### Critério das Linhas\n",
        "\n",
        "Conforme vimos no critério de convergência para Gauss-Jacobi, a matriz é diagonalmente estritalmente crescente $-$ e, consequentemente o método de Gauss-Seidel converge $-$ para $\\beta < 5$.\n",
        "\n",
        "### Critério de Sassenfeld\n",
        "\n",
        "#### $i=1$:\n",
        "\n",
        "$\\beta_1 = \\frac{1}{|a_{11}|} \\left( \\sum_{j = 2}^2 |a_{1j}|\\right)  = \\frac{|a_{12}|}{|a_{11}|} = \\frac{2}{10} = \\frac{1}{5} < 1$\n",
        "\n",
        "#### $i=2$:\n",
        "\n",
        "$\\beta_2 = \\frac{1}{|a_{22}|} \\left( \\sum_{j = 1}^1 |a_{2j}| \\beta_j\\right)  = \\frac{|a_{21}| \\beta_1}{|a_{22}|} = \\frac{\\beta \\times (1/5)}{5} = \\frac{\\beta}{25} < 1 \\iff \\beta < 25$\n",
        "\n",
        "Dessa forma, como os dois critérios são independentemente suficientes para determinar a convergência do método, realizei a união dos intervalos de $\\beta$.\n",
        "\n",
        "Portanto, valores de $\\beta$ no intervalo $\\beta < 25$ garantem a convergência de Gauss-Seidel."
      ]
    }
  ]
}